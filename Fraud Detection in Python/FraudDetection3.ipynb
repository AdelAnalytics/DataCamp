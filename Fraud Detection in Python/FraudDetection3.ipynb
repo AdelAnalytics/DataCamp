{
 "cells": [
  {
   "cell_type": "code",
   "execution_count": 1,
   "metadata": {},
   "outputs": [],
   "source": [
    "# -*- coding: utf-8 -*-\n",
    "\"\"\"\n",
    "Created on Thu Sep 19 07:38:02 2019\n",
    "\n",
    "@author: mor\n",
    "\"\"\"\n",
    "\n",
    "\n",
    "import pandas as pd\n",
    "import numpy as np\n",
    "import glob\n",
    "import matplotlib.pyplot as plt\n",
    "from imblearn.over_sampling import SMOTE\n",
    "from sklearn.model_selection import train_test_split\n",
    "from sklearn.linear_model import LogisticRegression\n",
    "from sklearn.metrics import classification_report , confusion_matrix , precision_recall_curve\n",
    "from imblearn.pipeline import Pipeline\n",
    "from sklearn.metrics import accuracy_score , roc_auc_score , average_precision_score, homogeneity_score, silhouette_score\n",
    "from sklearn.model_selection import GridSearchCV\n",
    "from sklearn.ensemble import VotingClassifier\n",
    "from sklearn.tree import DecisionTreeClassifier\n",
    "import seaborn as sn\n",
    "import pickle\n",
    "from sklearn.cluster import DBSCAN\n",
    "\n"
   ]
  },
  {
   "cell_type": "code",
   "execution_count": 2,
   "metadata": {},
   "outputs": [],
   "source": [
    "\n",
    "\n",
    "import warnings\n",
    "warnings.simplefilter(action='ignore', category=FutureWarning)\n",
    "\n"
   ]
  },
  {
   "cell_type": "code",
   "execution_count": 3,
   "metadata": {},
   "outputs": [],
   "source": [
    "\n",
    "\n",
    "filenames = glob.glob('data\\\\chapter_3\\\\*.csv')\n",
    "filenames = sorted(filenames)\n",
    "df = pd.read_csv(filenames[0])\n",
    "\n"
   ]
  },
  {
   "cell_type": "code",
   "execution_count": 4,
   "metadata": {},
   "outputs": [
    {
     "name": "stdout",
     "output_type": "stream",
     "text": [
      "(7200, 5)\n",
      "  age gender           category  amount  fraud\n",
      "0   3      F  es_transportation   49.71      0\n",
      "1   4      F          es_health   39.29      0\n",
      "2   3      F  es_transportation   18.76      0\n",
      "3   4      M  es_transportation   13.95      0\n",
      "4   2      M  es_transportation   49.87      0\n",
      "                           amount     fraud\n",
      "category                                   \n",
      "es_barsandrestaurants   43.841793  0.022472\n",
      "es_contents             55.170000  0.000000\n",
      "es_fashion              59.780769  0.020619\n",
      "es_food                 35.216050  0.000000\n",
      "es_health              126.604704  0.242798\n",
      "es_home                120.688317  0.208333\n",
      "es_hotelservices       172.756245  0.548387\n",
      "es_hyper                46.788180  0.125000\n",
      "es_leisure             229.757600  1.000000\n",
      "es_otherservices       149.648960  0.600000\n",
      "es_sportsandtoys       157.251737  0.657895\n",
      "es_tech                132.852862  0.179487\n",
      "es_transportation       27.422014  0.000000\n",
      "es_travel              231.818656  0.944444\n",
      "es_wellnessandbeauty    66.167078  0.060606\n"
     ]
    }
   ],
   "source": [
    "\n",
    "\n",
    "# Get the dataframe shape\n",
    "print(df.shape)\n",
    "\n",
    "# Display the first 5 rows\n",
    "print(df.head())\n",
    "\n",
    "# Groupby categories and take the mean\n",
    "print(df.groupby('category').mean())\n",
    "\n"
   ]
  },
  {
   "cell_type": "code",
   "execution_count": 5,
   "metadata": {},
   "outputs": [
    {
     "name": "stdout",
     "output_type": "stream",
     "text": [
      "        amount     fraud\n",
      "age                     \n",
      "0    49.468935  0.050000\n",
      "1    35.622829  0.026648\n",
      "2    37.228665  0.028718\n",
      "3    37.279338  0.023283\n",
      "4    36.197985  0.035966\n",
      "5    37.547521  0.023990\n",
      "6    36.700852  0.022293\n",
      "U    39.117000  0.000000\n",
      "2    2333\n",
      "3    1718\n",
      "4    1279\n",
      "5     792\n",
      "1     713\n",
      "6     314\n",
      "0      40\n",
      "U      11\n",
      "Name: age, dtype: int64\n"
     ]
    }
   ],
   "source": [
    "\n",
    "\n",
    "# Group by age groups and get the mean\n",
    "print(df.groupby('age').mean())\n",
    "\n",
    "# Count the values of the observations in each age group\n",
    "print(df['age'].value_counts())\n",
    "\n"
   ]
  },
  {
   "cell_type": "code",
   "execution_count": 6,
   "metadata": {},
   "outputs": [
    {
     "data": {
      "image/png": "[encoded data removed]",
      "text/plain": [
       "<Figure size 432x288 with 1 Axes>"
      ]
     },
     "metadata": {
      "needs_background": "light"
     },
     "output_type": "display_data"
    }
   ],
   "source": [
    "\n",
    "\n",
    "# Create two dataframes with fraud and non-fraud data \n",
    "df_fraud = df.loc[df.fraud == 1] \n",
    "df_non_fraud = df.loc[df.fraud == 0]\n",
    "\n",
    "# Plot histograms of the amounts in fraud and non-fraud data \n",
    "plt.hist(df_fraud.amount, alpha=0.5, label='fraud')\n",
    "plt.hist(df_non_fraud.amount, alpha=0.5, label='nonfraud')\n",
    "plt.legend()\n",
    "plt.show()\n",
    "\n"
   ]
  },
  {
   "cell_type": "code",
   "execution_count": 7,
   "metadata": {},
   "outputs": [],
   "source": [
    "\n",
    "\n",
    "df = pd.read_csv(filenames[1])\n",
    "y = df.fraud\n",
    "df.drop('fraud',axis=1,inplace=True)\n"
   ]
  },
  {
   "cell_type": "code",
   "execution_count": 8,
   "metadata": {},
   "outputs": [],
   "source": [
    "\n",
    "\n",
    "# Import the scaler\n",
    "from sklearn.preprocessing import MinMaxScaler\n",
    "\n",
    "# Take the float values of df for X\n",
    "X = df.values.astype(np.float)\n",
    "\n",
    "# Define the scaler and apply to the data\n",
    "scaler = MinMaxScaler()\n",
    "X_scaled = scaler.fit_transform(X)\n",
    "\n"
   ]
  },
  {
   "cell_type": "code",
   "execution_count": 9,
   "metadata": {},
   "outputs": [
    {
     "data": {
      "text/plain": [
       "MiniBatchKMeans(batch_size=100, compute_labels=True, init='k-means++',\n",
       "        init_size=None, max_iter=100, max_no_improvement=10, n_clusters=8,\n",
       "        n_init=3, random_state=0, reassignment_ratio=0.01, tol=0.0,\n",
       "        verbose=0)"
      ]
     },
     "execution_count": 9,
     "metadata": {},
     "output_type": "execute_result"
    }
   ],
   "source": [
    "\n",
    "\n",
    "# Import MiniBatchKmeans \n",
    "from sklearn.cluster import MiniBatchKMeans\n",
    "\n",
    "# Define the model \n",
    "kmeans = MiniBatchKMeans(n_clusters=8, random_state=0)\n",
    "\n",
    "# Fit the model to the scaled data\n",
    "kmeans.fit(X_scaled)\n",
    "\n"
   ]
  },
  {
   "cell_type": "code",
   "execution_count": 10,
   "metadata": {},
   "outputs": [
    {
     "data": {
      "image/png": "[encoded data removed]",
      "text/plain": [
       "<Figure size 432x288 with 1 Axes>"
      ]
     },
     "metadata": {
      "needs_background": "light"
     },
     "output_type": "display_data"
    }
   ],
   "source": [
    "\n",
    "\n",
    "# Define the range of clusters to try\n",
    "clustno = range(1, 10)\n",
    "\n",
    "# Run MiniBatch Kmeans over the number of clusters\n",
    "kmeans = [MiniBatchKMeans(n_clusters=i) for i in clustno]\n",
    "\n",
    "# Obtain the score for each model\n",
    "score = [kmeans[i].fit(X_scaled).score(X_scaled) for i in range(len(kmeans))]\n",
    "\n",
    "# Plot the models and their respective score \n",
    "plt.plot(clustno, score)\n",
    "plt.xlabel('Number of Clusters')\n",
    "plt.ylabel('Score')\n",
    "plt.title('Elbow Curve')\n",
    "plt.show()\n",
    "\n"
   ]
  },
  {
   "cell_type": "code",
   "execution_count": 11,
   "metadata": {},
   "outputs": [],
   "source": [
    "\n",
    "\n",
    "# Split the data into training and test set\n",
    "X_train, X_test, y_train, y_test = train_test_split(X_scaled, y, test_size=0.3, random_state=0)\n",
    "\n",
    "# Define K-means model \n",
    "kmeans = MiniBatchKMeans(n_clusters=3, random_state=42).fit(X_train)\n",
    "\n",
    "# Obtain predictions and calculate distance from cluster centroid\n",
    "X_test_clusters = kmeans.predict(X_test)\n",
    "X_test_clusters_centers = kmeans.cluster_centers_\n",
    "dist = [np.linalg.norm(x-y) for x, y in zip(X_test, X_test_clusters_centers[X_test_clusters])]\n",
    "\n",
    "# Create fraud predictions based on outliers on clusters \n",
    "km_y_pred = np.array(dist)\n",
    "km_y_pred[dist >= np.percentile(dist, 95)] = 1\n",
    "km_y_pred[dist < np.percentile(dist, 95)] = 0\n",
    "\n"
   ]
  },
  {
   "cell_type": "code",
   "execution_count": 12,
   "metadata": {},
   "outputs": [],
   "source": [
    "\n",
    "\n",
    "def plot_confusion_matrix(km_cm):\n",
    "  df_cm = pd.DataFrame(km_cm, ['True Normal','True Fraud'],['Pred Normal','Pred Fraud'])\n",
    "  plt.figure(figsize = (8,4))\n",
    "  sn.set(font_scale=1.4) \n",
    "  sn.heatmap(df_cm, annot=True,annot_kws={\"size\": 16},fmt='g')\n",
    "#  plt.ylim(-0.5,1.5)\n",
    "  plt.show()\n",
    "\n"
   ]
  },
  {
   "cell_type": "code",
   "execution_count": 13,
   "metadata": {},
   "outputs": [
    {
     "name": "stdout",
     "output_type": "stream",
     "text": [
      "0.8109115999408585\n"
     ]
    },
    {
     "data": {
      "image/png": "[encoded data removed]",
      "text/plain": [
       "<Figure size 576x288 with 2 Axes>"
      ]
     },
     "metadata": {
      "needs_background": "light"
     },
     "output_type": "display_data"
    }
   ],
   "source": [
    "\n",
    "# Obtain the ROC score\n",
    "print(roc_auc_score(y_test, km_y_pred))\n",
    "\n",
    "# Create a confusion matrix\n",
    "km_cm = confusion_matrix(y_test, km_y_pred)\n",
    "\n",
    "# Plot the confusion matrix in a figure to visualize results \n",
    "plot_confusion_matrix(km_cm)\n",
    "\n"
   ]
  },
  {
   "cell_type": "code",
   "execution_count": 14,
   "metadata": {},
   "outputs": [],
   "source": [
    "\n",
    "import pickle\n",
    "with open( 'data/chapter_3/x_scaled.pickle', 'rb') as f:\n",
    "    X_scaled= pickle.load(f)\n",
    "with open( 'data/chapter_3/labels.pickle', 'rb') as f:\n",
    "    labels= pickle.load(f)\n",
    "\n"
   ]
  },
  {
   "cell_type": "code",
   "execution_count": 15,
   "metadata": {},
   "outputs": [
    {
     "name": "stdout",
     "output_type": "stream",
     "text": [
      "Estimated number of clusters: 18\n",
      "Homogeneity: 0.633\n",
      "Silhouette Coefficient: 0.707\n"
     ]
    }
   ],
   "source": [
    "\n",
    "\n",
    "# Import DBSCAN\n",
    "from sklearn.cluster import DBSCAN\n",
    "\n",
    "# Initialize and fit the DBscan model\n",
    "db = DBSCAN(eps=0.9, min_samples=10, n_jobs=-1).fit(X_scaled)\n",
    "\n",
    "# Obtain the predicted labels and calculate number of clusters\n",
    "pred_labels = db.labels_\n",
    "n_clusters = len(set(pred_labels)) - (1 if -1 in labels else 0)\n",
    "\n",
    "# Print performance metrics for DBscan\n",
    "print('Estimated number of clusters: %d' % n_clusters)\n",
    "print(\"Homogeneity: %0.3f\" % homogeneity_score(labels, pred_labels))\n",
    "print(\"Silhouette Coefficient: %0.3f\" % silhouette_score(X_scaled, pred_labels))\n",
    "\n"
   ]
  },
  {
   "cell_type": "code",
   "execution_count": 16,
   "metadata": {},
   "outputs": [],
   "source": [
    "\n",
    "import pickle\n",
    "with open( 'data/chapter_3/x_scaled_full.pickle', 'rb') as f:\n",
    "    X_scaled= pickle.load(f)\n",
    "with open( 'data/chapter_3/labels_full.pickle', 'rb') as f:\n",
    "    labels= pickle.load(f)\n",
    "\n",
    "db = DBSCAN(eps=0.9, min_samples=10, n_jobs=-1).fit(X_scaled)\n",
    "\n",
    "# Obtain the predicted labels and calculate number of clusters\n",
    "pred_labels = db.labels_\n",
    "n_clusters = len(set(pred_labels)) - (1 if -1 in labels else 0)\n",
    "\n"
   ]
  },
  {
   "cell_type": "code",
   "execution_count": 17,
   "metadata": {},
   "outputs": [
    {
     "name": "stdout",
     "output_type": "stream",
     "text": [
      "Their counts are:\n",
      "[10 15 15]\n"
     ]
    }
   ],
   "source": [
    "\n",
    "# Count observations in each cluster number\n",
    "counts = np.bincount(pred_labels[pred_labels>=0])\n",
    "\n",
    "# Sort the sample counts of the clusters and take the top 3 smallest clusters\n",
    "smallest_clusters = np.argsort(counts)[:3]\n",
    "\n",
    "# Print the counts of the smallest clusters only\n",
    "print(\"Their counts are:\")      \n",
    "print(counts[smallest_clusters])\n",
    "\n"
   ]
  },
  {
   "cell_type": "code",
   "execution_count": 18,
   "metadata": {},
   "outputs": [
    {
     "name": "stdout",
     "output_type": "stream",
     "text": [
      "Flagged Fraud     0   1\n",
      "Actual Fraud           \n",
      "0              6973  16\n",
      "1               176  24\n"
     ]
    }
   ],
   "source": [
    "\n",
    "\n",
    "# Create a dataframe of the predicted cluster numbers and fraud labels \n",
    "df = pd.DataFrame({'clusternr':pred_labels,'fraud':labels})\n",
    "\n",
    "# Create a condition flagging fraud for the smallest clusters \n",
    "df['predicted_fraud'] = np.where((df['clusternr']==21)|(df['clusternr']==17)|(df['clusternr']==9),1 , 0)\n",
    "\n",
    "# Run a crosstab on the results \n",
    "print(pd.crosstab(df['fraud'], df['predicted_fraud'], rownames=['Actual Fraud'], colnames=['Flagged Fraud']))\n",
    "\n",
    "\n"
   ]
  }
 ],
 "metadata": {
  "kernelspec": {
   "display_name": "Python 3",
   "language": "python",
   "name": "python3"
  },
  "language_info": {
   "codemirror_mode": {
    "name": "ipython",
    "version": 3
   },
   "file_extension": ".py",
   "mimetype": "text/x-python",
   "name": "python",
   "nbconvert_exporter": "python",
   "pygments_lexer": "ipython3",
   "version": "3.6.7"
  }
 },
 "nbformat": 4,
 "nbformat_minor": 2
}
