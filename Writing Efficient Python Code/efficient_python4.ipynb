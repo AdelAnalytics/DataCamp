{
 "cells": [
  {
   "cell_type": "code",
   "execution_count": 1,
   "metadata": {},
   "outputs": [],
   "source": [
    "# -*- coding: utf-8 -*-\n",
    "\"\"\"\n",
    "Created on Sat Jun  1 08:49:20 2019\n",
    "\n",
    "@author: mor\n",
    "\"\"\"\n",
    "\n",
    "import numpy as np\n",
    "import time\n",
    "import pandas as pd\n",
    "from collections import Counter\n",
    "from itertools import combinations\n",
    "\n"
   ]
  },
  {
   "cell_type": "code",
   "execution_count": 2,
   "metadata": {},
   "outputs": [],
   "source": [
    "\n",
    "\n",
    "pit_df= pd.read_excel('data/pit_data.xlsx')\n",
    "\n"
   ]
  },
  {
   "cell_type": "code",
   "execution_count": 3,
   "metadata": {},
   "outputs": [
    {
     "name": "stdout",
     "output_type": "stream",
     "text": [
      "Team         PIT\n",
      "League        NL\n",
      "Year        2012\n",
      "RS           651\n",
      "RA           674\n",
      "W             79\n",
      "G            162\n",
      "Playoffs       0\n",
      "Name: 0, dtype: object\n",
      "Team         PIT\n",
      "League        NL\n",
      "Year        2011\n",
      "RS           610\n",
      "RA           712\n",
      "W             72\n",
      "G            162\n",
      "Playoffs       0\n",
      "Name: 1, dtype: object\n",
      "Team         PIT\n",
      "League        NL\n",
      "Year        2010\n",
      "RS           587\n",
      "RA           866\n",
      "W             57\n",
      "G            162\n",
      "Playoffs       0\n",
      "Name: 2, dtype: object\n",
      "Team         PIT\n",
      "League        NL\n",
      "Year        2009\n",
      "RS           636\n",
      "RA           768\n",
      "W             62\n",
      "G            161\n",
      "Playoffs       0\n",
      "Name: 3, dtype: object\n",
      "Team         PIT\n",
      "League        NL\n",
      "Year        2008\n",
      "RS           735\n",
      "RA           884\n",
      "W             67\n",
      "G            162\n",
      "Playoffs       0\n",
      "Name: 4, dtype: object\n"
     ]
    }
   ],
   "source": [
    "\n",
    "\n",
    "# Iterate over pit_df and print each row\n",
    "for i,row in pit_df.iterrows():\n",
    "    print(row)\n",
    "\n"
   ]
  },
  {
   "cell_type": "code",
   "execution_count": 4,
   "metadata": {},
   "outputs": [
    {
     "name": "stdout",
     "output_type": "stream",
     "text": [
      "0\n",
      "Team         PIT\n",
      "League        NL\n",
      "Year        2012\n",
      "RS           651\n",
      "RA           674\n",
      "W             79\n",
      "G            162\n",
      "Playoffs       0\n",
      "Name: 0, dtype: object\n",
      "<class 'pandas.core.series.Series'>\n",
      "1\n",
      "Team         PIT\n",
      "League        NL\n",
      "Year        2011\n",
      "RS           610\n",
      "RA           712\n",
      "W             72\n",
      "G            162\n",
      "Playoffs       0\n",
      "Name: 1, dtype: object\n",
      "<class 'pandas.core.series.Series'>\n",
      "2\n",
      "Team         PIT\n",
      "League        NL\n",
      "Year        2010\n",
      "RS           587\n",
      "RA           866\n",
      "W             57\n",
      "G            162\n",
      "Playoffs       0\n",
      "Name: 2, dtype: object\n",
      "<class 'pandas.core.series.Series'>\n",
      "3\n",
      "Team         PIT\n",
      "League        NL\n",
      "Year        2009\n",
      "RS           636\n",
      "RA           768\n",
      "W             62\n",
      "G            161\n",
      "Playoffs       0\n",
      "Name: 3, dtype: object\n",
      "<class 'pandas.core.series.Series'>\n",
      "4\n",
      "Team         PIT\n",
      "League        NL\n",
      "Year        2008\n",
      "RS           735\n",
      "RA           884\n",
      "W             67\n",
      "G            162\n",
      "Playoffs       0\n",
      "Name: 4, dtype: object\n",
      "<class 'pandas.core.series.Series'>\n"
     ]
    }
   ],
   "source": [
    "\n",
    "    \n",
    "# Iterate over pit_df and print each index variable and then each row\n",
    "for i,row in pit_df.iterrows():\n",
    "    print(i)\n",
    "    print(row)\n",
    "    print(type(row))\n",
    "\n"
   ]
  },
  {
   "cell_type": "code",
   "execution_count": 5,
   "metadata": {},
   "outputs": [
    {
     "name": "stdout",
     "output_type": "stream",
     "text": [
      "(0, Team         PIT\n",
      "League        NL\n",
      "Year        2012\n",
      "RS           651\n",
      "RA           674\n",
      "W             79\n",
      "G            162\n",
      "Playoffs       0\n",
      "Name: 0, dtype: object)\n",
      "(1, Team         PIT\n",
      "League        NL\n",
      "Year        2011\n",
      "RS           610\n",
      "RA           712\n",
      "W             72\n",
      "G            162\n",
      "Playoffs       0\n",
      "Name: 1, dtype: object)\n",
      "(2, Team         PIT\n",
      "League        NL\n",
      "Year        2010\n",
      "RS           587\n",
      "RA           866\n",
      "W             57\n",
      "G            162\n",
      "Playoffs       0\n",
      "Name: 2, dtype: object)\n",
      "(3, Team         PIT\n",
      "League        NL\n",
      "Year        2009\n",
      "RS           636\n",
      "RA           768\n",
      "W             62\n",
      "G            161\n",
      "Playoffs       0\n",
      "Name: 3, dtype: object)\n",
      "(4, Team         PIT\n",
      "League        NL\n",
      "Year        2008\n",
      "RS           735\n",
      "RA           884\n",
      "W             67\n",
      "G            162\n",
      "Playoffs       0\n",
      "Name: 4, dtype: object)\n"
     ]
    }
   ],
   "source": [
    "\n",
    "\n",
    "# Use one variable instead of two to store the result of .iterrows()\n",
    "for row_tuple in pit_df.iterrows():\n",
    "    print(row_tuple)\n",
    "\n"
   ]
  },
  {
   "cell_type": "code",
   "execution_count": 6,
   "metadata": {},
   "outputs": [
    {
     "name": "stdout",
     "output_type": "stream",
     "text": [
      "(0, Team         PIT\n",
      "League        NL\n",
      "Year        2012\n",
      "RS           651\n",
      "RA           674\n",
      "W             79\n",
      "G            162\n",
      "Playoffs       0\n",
      "Name: 0, dtype: object)\n",
      "<class 'tuple'>\n",
      "(1, Team         PIT\n",
      "League        NL\n",
      "Year        2011\n",
      "RS           610\n",
      "RA           712\n",
      "W             72\n",
      "G            162\n",
      "Playoffs       0\n",
      "Name: 1, dtype: object)\n",
      "<class 'tuple'>\n",
      "(2, Team         PIT\n",
      "League        NL\n",
      "Year        2010\n",
      "RS           587\n",
      "RA           866\n",
      "W             57\n",
      "G            162\n",
      "Playoffs       0\n",
      "Name: 2, dtype: object)\n",
      "<class 'tuple'>\n",
      "(3, Team         PIT\n",
      "League        NL\n",
      "Year        2009\n",
      "RS           636\n",
      "RA           768\n",
      "W             62\n",
      "G            161\n",
      "Playoffs       0\n",
      "Name: 3, dtype: object)\n",
      "<class 'tuple'>\n",
      "(4, Team         PIT\n",
      "League        NL\n",
      "Year        2008\n",
      "RS           735\n",
      "RA           884\n",
      "W             67\n",
      "G            162\n",
      "Playoffs       0\n",
      "Name: 4, dtype: object)\n",
      "<class 'tuple'>\n"
     ]
    }
   ],
   "source": [
    "\n",
    "\n",
    "# Print the row and type of each row\n",
    "for row_tuple in pit_df.iterrows():\n",
    "    print(row_tuple)\n",
    "    print(type(row_tuple))\n",
    "\n"
   ]
  },
  {
   "cell_type": "code",
   "execution_count": 7,
   "metadata": {},
   "outputs": [],
   "source": [
    "\n",
    "    \n",
    "giants_df=pd.read_excel('data/giants_data.xlsx')\n",
    "\n",
    "def calc_run_diff(runs_scored, runs_allowed):\n",
    "\n",
    "    run_diff = runs_scored - runs_allowed\n",
    "\n",
    "    return run_diff\n",
    "\n"
   ]
  },
  {
   "cell_type": "code",
   "execution_count": 8,
   "metadata": {},
   "outputs": [
    {
     "name": "stdout",
     "output_type": "stream",
     "text": [
      "  Team League  Year   RS   RA   W    G  Playoffs   RD\n",
      "0  SFG     NL  2012  718  649  94  162         1   69\n",
      "1  SFG     NL  2011  570  578  86  162         0   -8\n",
      "2  SFG     NL  2010  697  583  92  162         1  114\n",
      "3  SFG     NL  2009  657  611  88  162         0   46\n",
      "4  SFG     NL  2008  640  759  72  162         0 -119\n"
     ]
    }
   ],
   "source": [
    "\n",
    "    \n",
    "# Create an empty list to store run differentials\n",
    "run_diffs = []\n",
    "\n",
    "# Write a for loop and collect runs allowed and runs scored for each row\n",
    "for i,row in giants_df.iterrows():\n",
    "    runs_scored = row['RS']\n",
    "    runs_allowed = row['RA']\n",
    "    \n",
    "    # Use the provided function to calculate run_diff for each row\n",
    "    run_diff = calc_run_diff(runs_scored, runs_allowed)\n",
    "    \n",
    "    # Append each run differential to the output list\n",
    "    run_diffs.append(run_diff)\n",
    "\n",
    "giants_df['RD'] = run_diffs\n",
    "print(giants_df)\n",
    "\n"
   ]
  },
  {
   "cell_type": "code",
   "execution_count": 9,
   "metadata": {},
   "outputs": [],
   "source": [
    "\n",
    "\n",
    "rangers_df=pd.read_excel('data/rangers_data.xlsx')\n",
    "\n"
   ]
  },
  {
   "cell_type": "code",
   "execution_count": 10,
   "metadata": {},
   "outputs": [
    {
     "name": "stdout",
     "output_type": "stream",
     "text": [
      "Pandas(Index=0, Team='TEX', League='AL', Year=2012, RS=808, RA=707, W=93, G=162, Playoffs=1)\n",
      "Pandas(Index=1, Team='TEX', League='AL', Year=2011, RS=855, RA=677, W=96, G=162, Playoffs=1)\n",
      "Pandas(Index=2, Team='TEX', League='AL', Year=2010, RS=787, RA=687, W=90, G=162, Playoffs=1)\n",
      "Pandas(Index=3, Team='TEX', League='AL', Year=2009, RS=784, RA=740, W=87, G=162, Playoffs=0)\n",
      "Pandas(Index=4, Team='TEX', League='AL', Year=2008, RS=901, RA=967, W=79, G=162, Playoffs=0)\n",
      "Pandas(Index=5, Team='TEX', League='AL', Year=2007, RS=816, RA=844, W=75, G=162, Playoffs=0)\n",
      "Pandas(Index=6, Team='TEX', League='AL', Year=2006, RS=835, RA=784, W=80, G=162, Playoffs=0)\n",
      "Pandas(Index=7, Team='TEX', League='AL', Year=2005, RS=865, RA=858, W=79, G=162, Playoffs=0)\n",
      "Pandas(Index=8, Team='TEX', League='AL', Year=2004, RS=860, RA=794, W=89, G=162, Playoffs=0)\n",
      "Pandas(Index=9, Team='TEX', League='AL', Year=2003, RS=826, RA=969, W=71, G=162, Playoffs=0)\n",
      "Pandas(Index=10, Team='TEX', League='AL', Year=2002, RS=843, RA=882, W=72, G=162, Playoffs=0)\n",
      "Pandas(Index=11, Team='TEX', League='AL', Year=2001, RS=890, RA=968, W=73, G=162, Playoffs=0)\n",
      "Pandas(Index=12, Team='TEX', League='AL', Year=2000, RS=848, RA=974, W=71, G=162, Playoffs=0)\n",
      "Pandas(Index=13, Team='TEX', League='AL', Year=1999, RS=945, RA=859, W=95, G=162, Playoffs=1)\n",
      "Pandas(Index=14, Team='TEX', League='AL', Year=1998, RS=940, RA=871, W=88, G=162, Playoffs=1)\n",
      "Pandas(Index=15, Team='TEX', League='AL', Year=1997, RS=807, RA=823, W=77, G=162, Playoffs=0)\n",
      "Pandas(Index=16, Team='TEX', League='AL', Year=1996, RS=928, RA=799, W=90, G=163, Playoffs=1)\n",
      "Pandas(Index=17, Team='TEX', League='AL', Year=1993, RS=835, RA=751, W=86, G=162, Playoffs=0)\n",
      "Pandas(Index=18, Team='TEX', League='AL', Year=1992, RS=682, RA=753, W=77, G=162, Playoffs=0)\n",
      "Pandas(Index=19, Team='TEX', League='AL', Year=1991, RS=829, RA=814, W=85, G=162, Playoffs=0)\n",
      "Pandas(Index=20, Team='TEX', League='AL', Year=1990, RS=676, RA=696, W=83, G=162, Playoffs=0)\n",
      "Pandas(Index=21, Team='TEX', League='AL', Year=1989, RS=695, RA=714, W=83, G=162, Playoffs=0)\n",
      "Pandas(Index=22, Team='TEX', League='AL', Year=1988, RS=637, RA=735, W=70, G=161, Playoffs=0)\n",
      "Pandas(Index=23, Team='TEX', League='AL', Year=1987, RS=823, RA=849, W=75, G=162, Playoffs=0)\n",
      "Pandas(Index=24, Team='TEX', League='AL', Year=1986, RS=771, RA=743, W=87, G=162, Playoffs=0)\n",
      "Pandas(Index=25, Team='TEX', League='AL', Year=1985, RS=617, RA=785, W=62, G=161, Playoffs=0)\n",
      "Pandas(Index=26, Team='TEX', League='AL', Year=1984, RS=656, RA=714, W=69, G=161, Playoffs=0)\n",
      "Pandas(Index=27, Team='TEX', League='AL', Year=1983, RS=639, RA=609, W=77, G=163, Playoffs=0)\n",
      "Pandas(Index=28, Team='TEX', League='AL', Year=1982, RS=590, RA=749, W=64, G=162, Playoffs=0)\n",
      "Pandas(Index=29, Team='TEX', League='AL', Year=1980, RS=756, RA=752, W=76, G=163, Playoffs=0)\n",
      "Pandas(Index=30, Team='TEX', League='AL', Year=1979, RS=750, RA=698, W=83, G=162, Playoffs=0)\n",
      "Pandas(Index=31, Team='TEX', League='AL', Year=1978, RS=692, RA=632, W=87, G=162, Playoffs=0)\n",
      "Pandas(Index=32, Team='TEX', League='AL', Year=1977, RS=767, RA=657, W=94, G=162, Playoffs=0)\n",
      "Pandas(Index=33, Team='TEX', League='AL', Year=1976, RS=616, RA=652, W=76, G=162, Playoffs=0)\n",
      "Pandas(Index=34, Team='TEX', League='AL', Year=1975, RS=714, RA=733, W=79, G=162, Playoffs=0)\n",
      "Pandas(Index=35, Team='TEX', League='AL', Year=1974, RS=690, RA=698, W=83, G=161, Playoffs=0)\n",
      "Pandas(Index=36, Team='TEX', League='AL', Year=1973, RS=619, RA=844, W=57, G=162, Playoffs=0)\n"
     ]
    }
   ],
   "source": [
    "\n",
    "\n",
    "# Loop over the DataFrame and print each row\n",
    "for row in rangers_df.itertuples():\n",
    "  print(row)\n",
    "\n"
   ]
  },
  {
   "cell_type": "code",
   "execution_count": 11,
   "metadata": {},
   "outputs": [
    {
     "name": "stdout",
     "output_type": "stream",
     "text": [
      "0 2012 93\n",
      "1 2011 96\n",
      "2 2010 90\n",
      "3 2009 87\n",
      "4 2008 79\n",
      "5 2007 75\n",
      "6 2006 80\n",
      "7 2005 79\n",
      "8 2004 89\n",
      "9 2003 71\n",
      "10 2002 72\n",
      "11 2001 73\n",
      "12 2000 71\n",
      "13 1999 95\n",
      "14 1998 88\n",
      "15 1997 77\n",
      "16 1996 90\n",
      "17 1993 86\n",
      "18 1992 77\n",
      "19 1991 85\n",
      "20 1990 83\n",
      "21 1989 83\n",
      "22 1988 70\n",
      "23 1987 75\n",
      "24 1986 87\n",
      "25 1985 62\n",
      "26 1984 69\n",
      "27 1983 77\n",
      "28 1982 64\n",
      "29 1980 76\n",
      "30 1979 83\n",
      "31 1978 87\n",
      "32 1977 94\n",
      "33 1976 76\n",
      "34 1975 79\n",
      "35 1974 83\n",
      "36 1973 57\n"
     ]
    }
   ],
   "source": [
    "\n",
    "\n",
    "# Loop over the DataFrame and print each row's Index, Year and Wins (W)\n",
    "for row in rangers_df.itertuples():\n",
    "  i = row.Index\n",
    "  year = row.Year\n",
    "  wins = row.W\n",
    "  print(i, year, wins)\n",
    "\n"
   ]
  },
  {
   "cell_type": "code",
   "execution_count": 12,
   "metadata": {},
   "outputs": [
    {
     "name": "stdout",
     "output_type": "stream",
     "text": [
      "0 2012 93\n",
      "1 2011 96\n",
      "2 2010 90\n",
      "13 1999 95\n",
      "14 1998 88\n",
      "16 1996 90\n"
     ]
    }
   ],
   "source": [
    "\n",
    "\n",
    "# Loop over the DataFrame and print each row's Index, Year and Wins (W)\n",
    "for row in rangers_df.itertuples():\n",
    "  i = row.Index\n",
    "  year = row.Year\n",
    "  wins = row.W\n",
    "  \n",
    "  # Check if rangers made Playoffs (1 means yes; 0 means no)\n",
    "  if row.Playoffs == 1:\n",
    "    print(i, year, wins)\n",
    "    \n"
   ]
  },
  {
   "cell_type": "code",
   "execution_count": 13,
   "metadata": {},
   "outputs": [],
   "source": [
    "\n",
    "\n",
    "yankees_df=pd.read_excel('data/yankees_data.xlsx')\n",
    "\n"
   ]
  },
  {
   "cell_type": "code",
   "execution_count": 14,
   "metadata": {},
   "outputs": [
    {
     "name": "stdout",
     "output_type": "stream",
     "text": [
      "   Team League  Year   RS   RA    W    G  Playoffs   RD\n",
      "0   NYY     AL  2012  804  668   95  162         1  136\n",
      "1   NYY     AL  2011  867  657   97  162         1  210\n",
      "2   NYY     AL  2010  859  693   95  162         1  166\n",
      "3   NYY     AL  2009  915  753  103  162         1  162\n",
      "4   NYY     AL  2008  789  727   89  162         0   62\n",
      "5   NYY     AL  2007  968  777   94  162         1  191\n",
      "6   NYY     AL  2006  930  767   97  162         1  163\n",
      "7   NYY     AL  2005  886  789   95  162         1   97\n",
      "8   NYY     AL  2004  897  808  101  162         1   89\n",
      "9   NYY     AL  2003  877  716  101  163         1  161\n",
      "10  NYY     AL  2002  897  697  103  161         1  200\n",
      "11  NYY     AL  2001  804  713   95  161         1   91\n",
      "12  NYY     AL  2000  871  814   87  161         1   57\n",
      "13  NYY     AL  1999  900  731   98  162         1  169\n",
      "14  NYY     AL  1998  965  656  114  162         1  309\n",
      "15  NYY     AL  1997  891  688   96  162         1  203\n",
      "16  NYY     AL  1996  871  787   92  162         1   84\n",
      "17  NYY     AL  1993  821  761   88  162         0   60\n",
      "18  NYY     AL  1992  733  746   76  162         0  -13\n",
      "19  NYY     AL  1991  674  777   71  162         0 -103\n",
      "20  NYY     AL  1990  603  749   67  162         0 -146\n",
      "21  NYY     AL  1989  698  792   74  161         0  -94\n",
      "22  NYY     AL  1988  772  748   85  161         0   24\n",
      "23  NYY     AL  1987  788  758   89  162         0   30\n",
      "24  NYY     AL  1986  797  738   90  162         0   59\n",
      "25  NYY     AL  1985  839  660   97  161         0  179\n",
      "26  NYY     AL  1984  758  679   87  162         0   79\n",
      "27  NYY     AL  1983  770  703   91  162         0   67\n",
      "28  NYY     AL  1982  709  716   79  162         0   -7\n",
      "29  NYY     AL  1980  820  662  103  162         1  158\n",
      "30  NYY     AL  1979  734  672   89  160         0   62\n",
      "31  NYY     AL  1978  735  582  100  163         1  153\n",
      "32  NYY     AL  1977  831  651  100  162         1  180\n",
      "33  NYY     AL  1976  730  575   97  159         1  155\n",
      "34  NYY     AL  1975  681  588   83  160         0   93\n",
      "35  NYY     AL  1974  671  623   89  162         0   48\n",
      "36  NYY     AL  1973  641  610   80  162         0   31\n",
      "37  NYY     AL  1971  648  641   81  162         0    7\n",
      "38  NYY     AL  1970  680  612   93  163         0   68\n",
      "39  NYY     AL  1969  562  587   80  162         0  -25\n",
      "40  NYY     AL  1968  536  531   83  164         0    5\n",
      "41  NYY     AL  1967  522  621   72  163         0  -99\n",
      "42  NYY     AL  1966  611  612   70  160         0   -1\n",
      "43  NYY     AL  1965  611  604   77  162         0    7\n",
      "44  NYY     AL  1964  730  577   99  164         1  153\n",
      "45  NYY     AL  1963  714  547  104  161         1  167\n",
      "46  NYY     AL  1962  817  680   96  162         1  137\n"
     ]
    }
   ],
   "source": [
    "\n",
    "run_diffs = []\n",
    "\n",
    "# Loop over the DataFrame and calculate each row's run differential\n",
    "for row in yankees_df.itertuples():\n",
    "    \n",
    "    runs_scored = row.RS\n",
    "    runs_allowed = row.RA\n",
    "\n",
    "    run_diff = calc_run_diff(runs_scored, runs_allowed)\n",
    "    \n",
    "    run_diffs.append(run_diff)\n",
    "\n",
    "# Append new column\n",
    "yankees_df['RD'] = run_diffs\n",
    "print(yankees_df)\n",
    "\n"
   ]
  },
  {
   "cell_type": "code",
   "execution_count": 15,
   "metadata": {},
   "outputs": [],
   "source": [
    "\n",
    "\n",
    "rays_df=pd.read_excel('data/rays_data.xlsx',index_col=0)\n",
    "\n"
   ]
  },
  {
   "cell_type": "code",
   "execution_count": 16,
   "metadata": {},
   "outputs": [
    {
     "name": "stdout",
     "output_type": "stream",
     "text": [
      "RS          3783\n",
      "RA          3265\n",
      "W            458\n",
      "Playoffs       3\n",
      "dtype: int64\n"
     ]
    }
   ],
   "source": [
    "\n",
    "\n",
    "# Gather sum of all columns\n",
    "stat_totals = rays_df.apply(sum, axis=0)\n",
    "print(stat_totals)\n",
    "\n"
   ]
  },
  {
   "cell_type": "code",
   "execution_count": 17,
   "metadata": {},
   "outputs": [
    {
     "name": "stdout",
     "output_type": "stream",
     "text": [
      "2012    1274\n",
      "2011    1321\n",
      "2010    1451\n",
      "2009    1557\n",
      "2008    1445\n",
      "dtype: int64\n"
     ]
    }
   ],
   "source": [
    "\n",
    "\n",
    "# Gather total runs scored in all games per year\n",
    "total_runs_scored = rays_df[['RS', 'RA']].apply(sum, axis=1)\n",
    "print(total_runs_scored)\n",
    "\n"
   ]
  },
  {
   "cell_type": "code",
   "execution_count": 18,
   "metadata": {},
   "outputs": [],
   "source": [
    "\n",
    "\n",
    "def text_playoffs(num_playoffs): \n",
    "    if num_playoffs == 1:\n",
    "        return 'Yes'\n",
    "    else:\n",
    "        return 'No' \n",
    "\n"
   ]
  },
  {
   "cell_type": "code",
   "execution_count": 19,
   "metadata": {},
   "outputs": [
    {
     "name": "stdout",
     "output_type": "stream",
     "text": [
      "2012     No\n",
      "2011    Yes\n",
      "2010    Yes\n",
      "2009     No\n",
      "2008    Yes\n",
      "dtype: object\n"
     ]
    }
   ],
   "source": [
    "\n",
    "\n",
    "# Convert numeric playoffs to text\n",
    "textual_playoffs = rays_df.apply(lambda row: text_playoffs(row['Playoffs']), axis=1)\n",
    "print(textual_playoffs)\n",
    "\n"
   ]
  },
  {
   "cell_type": "code",
   "execution_count": 20,
   "metadata": {},
   "outputs": [
    {
     "name": "stdout",
     "output_type": "stream",
     "text": [
      "2012     No\n",
      "2011    Yes\n",
      "2010    Yes\n",
      "2009     No\n",
      "2008    Yes\n",
      "Name: Playoffs, dtype: object\n"
     ]
    }
   ],
   "source": [
    "\n",
    "# Convert numeric playoffs to text\n",
    "textual_playoffs = rays_df.Playoffs.apply(text_playoffs)\n",
    "print(textual_playoffs)\n",
    "\n"
   ]
  },
  {
   "cell_type": "code",
   "execution_count": 21,
   "metadata": {},
   "outputs": [],
   "source": [
    "\n",
    "\n",
    "dbacks_df=pd.read_excel('data/dbacks_data.xlsx')\n",
    "\n",
    "def calc_win_perc(wins, games_played):\n",
    "    win_perc = wins / games_played\n",
    "    return np.round(win_perc,2)\n"
   ]
  },
  {
   "cell_type": "code",
   "execution_count": 22,
   "metadata": {},
   "outputs": [
    {
     "name": "stdout",
     "output_type": "stream",
     "text": [
      "  Team League  Year   RS   RA   W    G  Playoffs\n",
      "0  ARI     NL  2012  734  688  81  162         0\n",
      "1  ARI     NL  2011  731  662  94  162         1\n",
      "2  ARI     NL  2010  713  836  65  162         0\n",
      "3  ARI     NL  2009  720  782  70  162         0\n",
      "4  ARI     NL  2008  720  706  82  162         0\n",
      "0     0.50\n",
      "1     0.58\n",
      "2     0.40\n",
      "3     0.43\n",
      "4     0.51\n",
      "5     0.56\n",
      "6     0.47\n",
      "7     0.48\n",
      "8     0.31\n",
      "9     0.52\n",
      "10    0.60\n",
      "11    0.57\n",
      "12    0.52\n",
      "13    0.62\n",
      "14    0.40\n",
      "dtype: float64 \n",
      "\n",
      "   Team League  Year   RS   RA    W    G  Playoffs    WP\n",
      "0   ARI     NL  2012  734  688   81  162         0  0.50\n",
      "1   ARI     NL  2011  731  662   94  162         1  0.58\n",
      "2   ARI     NL  2010  713  836   65  162         0  0.40\n",
      "3   ARI     NL  2009  720  782   70  162         0  0.43\n",
      "4   ARI     NL  2008  720  706   82  162         0  0.51\n",
      "5   ARI     NL  2007  712  732   90  162         1  0.56\n",
      "6   ARI     NL  2006  773  788   76  162         0  0.47\n",
      "7   ARI     NL  2005  696  856   77  162         0  0.48\n",
      "8   ARI     NL  2004  615  899   51  162         0  0.31\n",
      "9   ARI     NL  2003  717  685   84  162         0  0.52\n",
      "10  ARI     NL  2002  819  674   98  162         1  0.60\n",
      "11  ARI     NL  2001  818  677   92  162         1  0.57\n",
      "12  ARI     NL  2000  792  754   85  162         0  0.52\n",
      "13  ARI     NL  1999  908  676  100  162         1  0.62\n",
      "14  ARI     NL  1998  665  812   65  162         0  0.40 \n",
      "\n",
      "   Team League  Year   RS   RA    W    G  Playoffs    WP\n",
      "0   ARI     NL  2012  734  688   81  162         0  0.50\n",
      "1   ARI     NL  2011  731  662   94  162         1  0.58\n",
      "4   ARI     NL  2008  720  706   82  162         0  0.51\n",
      "5   ARI     NL  2007  712  732   90  162         1  0.56\n",
      "9   ARI     NL  2003  717  685   84  162         0  0.52\n",
      "10  ARI     NL  2002  819  674   98  162         1  0.60\n",
      "11  ARI     NL  2001  818  677   92  162         1  0.57\n",
      "12  ARI     NL  2000  792  754   85  162         0  0.52\n",
      "13  ARI     NL  1999  908  676  100  162         1  0.62\n"
     ]
    }
   ],
   "source": [
    "\n",
    "# Display the first five rows of the DataFrame\n",
    "print(dbacks_df.head())\n",
    "\n",
    "# Create a win percentage Series \n",
    "win_percs = dbacks_df.apply(lambda row: calc_win_perc(row['W'], row['G']), axis=1)\n",
    "print(win_percs, '\\n')\n",
    "\n",
    "# Append a new column to dbacks_df\n",
    "dbacks_df['WP'] = win_percs\n",
    "print(dbacks_df, '\\n')\n",
    "\n",
    "# Display dbacks_df where WP is greater than 0.50\n",
    "print(dbacks_df[dbacks_df['WP'] >= 0.50])\n",
    "\n"
   ]
  },
  {
   "cell_type": "code",
   "execution_count": 23,
   "metadata": {},
   "outputs": [],
   "source": [
    "\n",
    "\n",
    "baseball_df=pd.read_excel('data/baseball_data.xlsx')\n"
   ]
  },
  {
   "cell_type": "code",
   "execution_count": 24,
   "metadata": {},
   "outputs": [
    {
     "name": "stdout",
     "output_type": "stream",
     "text": [
      "  Team League  Year   RS   RA   W    G  Playoffs    WP\n",
      "0  ARI     NL  2012  734  688  81  162         0  0.50\n",
      "1  ATL     NL  2012  700  600  94  162         1  0.58\n",
      "2  BAL     AL  2012  712  705  93  162         1  0.57\n",
      "3  BOS     AL  2012  734  806  69  162         0  0.43\n",
      "4  CHC     NL  2012  613  759  61  162         0  0.38\n"
     ]
    }
   ],
   "source": [
    "\n",
    "# Use the W array and G array to calculate win percentages\n",
    "win_percs_np = calc_win_perc(baseball_df['W'].values, baseball_df['G'].values)\n",
    "\n",
    "# Append a new column to baseball_df that stores all win percentages\n",
    "baseball_df['WP'] = win_percs_np\n",
    "\n",
    "print(baseball_df.head())\n",
    "\n"
   ]
  },
  {
   "cell_type": "code",
   "execution_count": 25,
   "metadata": {},
   "outputs": [],
   "source": [
    "\n",
    "\n",
    "def predict_win_perc(RS, RA):\n",
    "    prediction = RS ** 2 / (RS ** 2 + RA ** 2)\n",
    "    return np.round(prediction, 2)\n",
    "\n"
   ]
  },
  {
   "cell_type": "code",
   "execution_count": 26,
   "metadata": {},
   "outputs": [
    {
     "name": "stdout",
     "output_type": "stream",
     "text": [
      "  Team League  Year   RS   RA   W    G  Playoffs    WP  WP_preds\n",
      "0  ARI     NL  2012  734  688  81  162         0  0.50      0.53\n",
      "1  ATL     NL  2012  700  600  94  162         1  0.58      0.58\n",
      "2  BAL     AL  2012  712  705  93  162         1  0.57      0.50\n",
      "3  BOS     AL  2012  734  806  69  162         0  0.43      0.45\n",
      "4  CHC     NL  2012  613  759  61  162         0  0.38      0.39\n"
     ]
    }
   ],
   "source": [
    "\n",
    "\n",
    "win_perc_preds_loop = []\n",
    "\n",
    "# Use a loop and .itertuples() to collect each row's predicted win percentage\n",
    "for row in baseball_df.itertuples():\n",
    "    runs_scored = row.RS\n",
    "    runs_allowed = row.RA\n",
    "    win_perc_pred = predict_win_perc(runs_scored, runs_allowed)\n",
    "    win_perc_preds_loop.append(win_perc_pred)\n",
    "\n",
    "# Apply predict_win_perc to each row of the DataFrame\n",
    "win_perc_preds_apply = baseball_df.apply(lambda row: predict_win_perc(row['RS'], row['RA']), axis=1)\n",
    "\n",
    "# Calculate the win percentage predictions using NumPy arrays\n",
    "win_perc_preds_np = predict_win_perc(baseball_df['RS'].values, baseball_df['RA'].values)\n",
    "baseball_df['WP_preds'] = win_perc_preds_np\n",
    "print(baseball_df.head())\n",
    "\n"
   ]
  },
  {
   "cell_type": "code",
   "execution_count": 27,
   "metadata": {},
   "outputs": [
    {
     "name": "stdout",
     "output_type": "stream",
     "text": [
      "36.8 ms ± 972 µs per loop (mean ± std. dev. of 7 runs, 10 loops each)\n"
     ]
    }
   ],
   "source": [
    "%%timeit win_perc_preds_loop = []\n",
    "\n",
    "# Use a loop and .itertuples() to collect each row's predicted win percentage\n",
    "for row in baseball_df.itertuples():\n",
    "    runs_scored = row.RS\n",
    "    runs_allowed = row.RA\n",
    "    win_perc_pred = predict_win_perc(runs_scored, runs_allowed)\n",
    "    win_perc_preds_loop.append(win_perc_pred)\n",
    "\n"
   ]
  },
  {
   "cell_type": "code",
   "execution_count": 28,
   "metadata": {},
   "outputs": [
    {
     "name": "stdout",
     "output_type": "stream",
     "text": [
      "105 ms ± 1.93 ms per loop (mean ± std. dev. of 7 runs, 10 loops each)\n"
     ]
    }
   ],
   "source": [
    "\n",
    "# Apply predict_win_perc to each row of the DataFrame\n",
    "%timeit win_perc_preds_apply = baseball_df.apply(lambda row: predict_win_perc(row['RS'], row['RA']), axis=1)\n",
    "\n"
   ]
  },
  {
   "cell_type": "code",
   "execution_count": 29,
   "metadata": {},
   "outputs": [
    {
     "name": "stdout",
     "output_type": "stream",
     "text": [
      "211 µs ± 2.89 µs per loop (mean ± std. dev. of 7 runs, 1000 loops each)\n",
      "  Team League  Year   RS   RA   W    G  Playoffs    WP  WP_preds\n",
      "0  ARI     NL  2012  734  688  81  162         0  0.50      0.53\n",
      "1  ATL     NL  2012  700  600  94  162         1  0.58      0.58\n",
      "2  BAL     AL  2012  712  705  93  162         1  0.57      0.50\n",
      "3  BOS     AL  2012  734  806  69  162         0  0.43      0.45\n",
      "4  CHC     NL  2012  613  759  61  162         0  0.38      0.39\n"
     ]
    }
   ],
   "source": [
    "\n",
    "# Calculate the win percentage predictions using NumPy arrays\n",
    "%timeit win_perc_preds_np = predict_win_perc(baseball_df['RS'].values, baseball_df['RA'].values)\n",
    "baseball_df['WP_preds'] = win_perc_preds_np\n",
    "print(baseball_df.head())    \n",
    "\n",
    "\n"
   ]
  }
 ],
 "metadata": {
  "kernelspec": {
   "display_name": "Python 3",
   "language": "python",
   "name": "python3"
  },
  "language_info": {
   "codemirror_mode": {
    "name": "ipython",
    "version": 3
   },
   "file_extension": ".py",
   "mimetype": "text/x-python",
   "name": "python",
   "nbconvert_exporter": "python",
   "pygments_lexer": "ipython3",
   "version": "3.6.7"
  }
 },
 "nbformat": 4,
 "nbformat_minor": 2
}
