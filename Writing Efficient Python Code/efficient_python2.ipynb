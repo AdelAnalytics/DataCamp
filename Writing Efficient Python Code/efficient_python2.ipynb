{
 "cells": [
  {
   "cell_type": "code",
   "execution_count": 1,
   "metadata": {},
   "outputs": [],
   "source": [
    "# -*- coding: utf-8 -*-\n",
    "\"\"\"\n",
    "Created on Sun Apr 14 20:03:38 2019\n",
    "\n",
    "@author: mor\n",
    "\"\"\"\n",
    "\n",
    "import numpy as np\n",
    "import time\n"
   ]
  },
  {
   "cell_type": "code",
   "execution_count": 2,
   "metadata": {},
   "outputs": [
    {
     "name": "stdout",
     "output_type": "stream",
     "text": [
      "[0, 1, 2, 3, 4, 5, 6, 7, 8, 9, 10, 11, 12, 13, 14, 15, 16, 17, 18, 19, 20, 21, 22, 23, 24, 25, 26, 27, 28, 29, 30, 31, 32, 33, 34, 35, 36, 37, 38, 39, 40, 41, 42, 43, 44, 45, 46, 47, 48, 49, 50]\n",
      "[0, 1, 2, 3, 4, 5, 6, 7, 8, 9, 10, 11, 12, 13, 14, 15, 16, 17, 18, 19, 20, 21, 22, 23, 24, 25, 26, 27, 28, 29, 30, 31, 32, 33, 34, 35, 36, 37, 38, 39, 40, 41, 42, 43, 44, 45, 46, 47, 48, 49, 50]\n"
     ]
    }
   ],
   "source": [
    "\n",
    "\n",
    "# Create a list of integers (0-50) using list comprehension\n",
    "nums_list_comp = [num for num in range(51)]\n",
    "print(nums_list_comp)\n",
    "\n",
    "# Create a list of integers (0-50) by unpacking range\n",
    "nums_unpack = [*range(51)]\n",
    "print(nums_unpack)\n",
    "\n"
   ]
  },
  {
   "cell_type": "code",
   "execution_count": 3,
   "metadata": {},
   "outputs": [
    {
     "name": "stdout",
     "output_type": "stream",
     "text": [
      "3.69 µs ± 123 ns per loop (mean ± std. dev. of 7 runs, 100000 loops each)\n",
      "2.9980270862579346\n"
     ]
    }
   ],
   "source": [
    "\n",
    "start = time.time()\n",
    "\n",
    "%timeit [num for num in range(51)]\n",
    "nums_list_comp= [num for num in range(51)]\n",
    "\n",
    "end = time.time()\n",
    "print(end - start)\n",
    "\n"
   ]
  },
  {
   "cell_type": "code",
   "execution_count": 4,
   "metadata": {},
   "outputs": [
    {
     "name": "stdout",
     "output_type": "stream",
     "text": [
      "1.26 µs ± 13.6 ns per loop (mean ± std. dev. of 7 runs, 1000000 loops each)\n",
      "10.29050874710083\n"
     ]
    }
   ],
   "source": [
    "\n",
    "start = time.time()\n",
    "\n",
    "%timeit [*range(51)]\n",
    "nums_unpack= [*range(51)]\n",
    "\n",
    "end = time.time()\n",
    "print(end - start)\n"
   ]
  },
  {
   "cell_type": "code",
   "execution_count": 5,
   "metadata": {},
   "outputs": [],
   "source": [
    "\n",
    "\n",
    "heroes=['A-Bomb', 'Abe Sapien', 'Abin Sur', 'Abomination', 'Absorbing Man', 'Adam Strange', 'Agent 13', 'Agent Bob', 'Agent Zero', 'Air-Walker',\n",
    " 'Ajax', 'Alan Scott', 'Alfred Pennyworth', 'Alien', 'Amazo', 'Ammo', 'Angel', 'Angel Dust', 'Angel Salvadore', 'Animal Man', 'Annihilus',\n",
    " 'Ant-Man', 'Ant-Man II', 'Anti-Venom', 'Apocalypse', 'Aqualad', 'Aquaman', 'Arachne', 'Archangel', 'Arclight', 'Ardina', 'Ares', 'Ariel',\n",
    " 'Armor', 'Atlas', 'Atom', 'Atom Girl', 'Atom II', 'Aurora', 'Azazel', 'Bane', 'Banshee', 'Bantam', 'Batgirl', 'Batgirl IV', 'Batgirl VI',\n",
    " 'Batman', 'Batman II', 'Battlestar', 'Beak', 'Beast', 'Beast Boy', 'Beta Ray Bill', 'Big Barda', 'Big Man', 'Binary', 'Bishop', 'Bizarro',\n",
    " 'Black Adam', 'Black Bolt', 'Black Canary', 'Black Cat', 'Black Knight III', 'Black Lightning', 'Black Mamba', 'Black Manta', 'Black Panther',\n",
    " 'Black Widow', 'Black Widow II', 'Blackout', 'Blackwing', 'Blackwulf', 'Blade', 'Bling!', 'Blink', 'Blizzard II', 'Blob', 'Bloodaxe', 'Blue Beetle II',\n",
    " 'Boom-Boom', 'Booster Gold', 'Box III', 'Brainiac', 'Brainiac 5', 'Brother Voodoo', 'Buffy', 'Bullseye', 'Bumblebee', 'Cable', 'Callisto', 'Cannonball',\n",
    " 'Captain America', 'Captain Atom', 'Captain Britain', 'Captain Mar-vell', 'Captain Marvel', 'Captain Marvel II', 'Carnage', 'Cat', 'Catwoman',\n",
    " 'Cecilia Reyes', 'Century', 'Chamber', 'Changeling', 'Cheetah', 'Cheetah II', 'Cheetah III', 'Chromos', 'Citizen Steel', 'Cloak', 'Clock King',\n",
    " 'Colossus', 'Copycat', 'Corsair', 'Cottonmouth', 'Crimson Dynamo', 'Crystal', 'Cyborg', 'Cyclops', 'Cypher', 'Dagger', 'Daredevil', 'Darkhawk',\n",
    " 'Darkseid', 'Darkstar', 'Darth Vader', 'Dash', 'Dazzler', 'Deadman', 'Deadpool', 'Deadshot', 'Deathlok', 'Deathstroke', 'Demogoblin', 'Destroyer',\n",
    " 'Diamondback', 'Doc Samson', 'Doctor Doom', 'Doctor Doom II', 'Doctor Fate', 'Doctor Octopus', 'Doctor Strange', 'Domino', 'Donna Troy', 'Doomsday',\n",
    " 'Doppelganger', 'Drax the Destroyer', 'Elastigirl', 'Electro', 'Elektra', 'Elongated Man', 'Emma Frost', 'Enchantress', 'Etrigan', 'Evil Deadpool',\n",
    " 'Evilhawk', 'Exodus', 'Fabian Cortez', 'Falcon', 'Feral', 'Fin Fang Foom', 'Firebird', 'Firelord', 'Firestar', 'Firestorm', 'Flash', 'Flash II',\n",
    " 'Flash III', 'Flash IV', 'Forge', 'Franklin Richards', 'Franklin Storm', 'Frenzy', 'Frigga', 'Galactus', 'Gambit', 'Gamora', 'Genesis', 'Ghost Rider',\n",
    " 'Giganta', 'Gladiator', 'Goblin Queen', 'Goku', 'Goliath IV', 'Gorilla Grodd', 'Granny Goodness', 'Gravity', 'Green Arrow', 'Green Goblin', 'Green Goblin II', 'Green Goblin III',\n",
    " 'Green Goblin IV', 'Groot', 'Guy Gardner', 'Hal Jordan', 'Han Solo', 'Harley Quinn', 'Havok', 'Hawk', 'Hawkeye', 'Hawkeye II', 'Hawkgirl', 'Hawkman',\n",
    " 'Hawkwoman', 'Hawkwoman III', 'Heat Wave', 'Hela', 'Hellboy', 'Hellcat', 'Hellstorm', 'Hercules', 'Hobgoblin', 'Hope Summers', 'Howard the Duck', 'Hulk',\n",
    " 'Human Torch', 'Huntress', 'Husk', 'Hybrid', 'Hydro-Man', 'Hyperion', 'Iceman', 'Impulse', 'Ink', 'Invisible Woman', 'Iron Fist', 'Iron Man',\n",
    " 'Jack of Hearts', 'Jack-Jack', 'James T. Kirk', 'Jean Grey', 'Jennifer Kale', 'Jessica Jones', 'Jigsaw', 'John Stewart', 'John Wraith', 'Joker', 'Jolt', 'Jubilee',\n",
    " 'Juggernaut', 'Justice', 'Kang', 'Karate Kid', 'Killer Croc', 'Kilowog', 'Kingpin', 'Klaw', 'Kraven II', 'Kraven the Hunter', 'Krypto', 'Kyle Rayner',\n",
    " 'Lady Deathstrike', 'Leader', 'Legion', 'Lex Luthor', 'Light Lass', 'Lightning Lad', 'Lightning Lord', 'Living Brain', 'Lizard', 'Lobo', 'Loki', 'Longshot',\n",
    " 'Luke Cage', 'Luke Skywalker', 'Mach-IV', 'Machine Man', 'Magneto', 'Man-Thing', 'Man-Wolf', 'Mandarin', 'Mantis', 'Martian Manhunter', 'Marvel Girl', 'Master Brood',\n",
    " 'Maverick', 'Maxima', 'Medusa', 'Meltdown', 'Mephisto', 'Mera', 'Metallo', 'Metamorpho', 'Metron', 'Micro Lad', 'Mimic', 'Miss Martian',\n",
    " 'Mister Fantastic', 'Mister Freeze', 'Mister Sinister', 'Mockingbird', 'MODOK', 'Molten Man', 'Monarch', 'Moon Knight', 'Moonstone', 'Morlun', 'Morph', 'Moses Magnum',\n",
    " 'Mr Immortal', 'Mr Incredible', 'Ms Marvel II', 'Multiple Man', 'Mysterio', 'Mystique', 'Namor', 'Namora', 'Namorita', 'Naruto Uzumaki', 'Nebula', 'Nick Fury',\n",
    " 'Nightcrawler', 'Nightwing', 'Northstar', 'Nova', 'Odin', 'Omega Red', 'Omniscient', 'One Punch Man', 'Onslaught', 'Oracle', 'Paul Blart', 'Penance II',\n",
    " 'Penguin', 'Phantom Girl', 'Phoenix', 'Plantman', 'Plastic Man', 'Plastique', 'Poison Ivy', 'Polaris', 'Power Girl', 'Predator', 'Professor X', 'Professor Zoom',\n",
    " 'Psylocke', 'Punisher', 'Purple Man', 'Pyro', 'Question', 'Quicksilver', 'Quill', \"Ra's Al Ghul\", 'Raven', 'Ray', 'Razor-Fist II', 'Red Arrow',\n",
    " 'Red Hood', 'Red Hulk', 'Red Robin', 'Red Skull', 'Red Tornado', 'Rhino', 'Rick Flag', 'Ripcord', 'Robin', 'Robin II', 'Robin III', 'Robin V',\n",
    " 'Rocket Raccoon', 'Rogue', 'Ronin', 'Rorschach', 'Sabretooth', 'Sage', 'Sandman', 'Sasquatch', 'Scarecrow', 'Scarlet Spider', 'Scarlet Spider II',\n",
    " 'Scarlet Witch', 'Scorpion', 'Sentry', 'Shadow King', 'Shadow Lass', 'Shadowcat', 'Shang-Chi', 'Shatterstar', 'She-Hulk', 'She-Thing', 'Shocker', 'Shriek',\n",
    " 'Sif','Silver Surfer', 'Silverclaw','Sinestro', 'Siren', 'Siryn', 'Skaar', 'Snowbird', 'Solomon Grundy', 'Songbird', 'Space Ghost', 'Spawn', 'Spider-Girl',\n",
    " 'Spider-Gwen', 'Spider-Man', 'Spider-Woman', 'Spider-Woman III', 'Spider-Woman IV', 'Spock', 'Spyke', 'Star-Lord', 'Starfire', 'Stargirl', 'Static',\n",
    " 'Steel', 'Steppenwolf', 'Storm', 'Sunspot', 'Superboy', 'Superboy-Prime', 'Supergirl', 'Superman', 'Swarm', 'Synch', 'T-1000', 'Taskmaster', 'Tempest', 'Thanos',\n",
    " 'The Comedian', 'Thing', 'Thor', 'Thor Girl', 'Thunderbird', 'Thunderbird III', 'Thunderstrike', 'Thundra', 'Tiger Shark', 'Tigra', 'Tinkerer', 'Toad',\n",
    " 'Toxin', 'Trickster', 'Triplicate Girl', 'Triton', 'Two-Face', 'Ultragirl', 'Ultron', 'Utgard-Loki', 'Vagabond', 'Valerie Hart', 'Valkyrie', 'Vanisher',\n",
    " 'Vegeta', 'Venom', 'Venom II', 'Venom III', 'Vertigo II', 'Vibe', 'Vindicator', 'Violet Parr', 'Vision', 'Vision II', 'Vixen', 'Vulture', 'Walrus', 'War Machine',\n",
    " 'Warbird', 'Warlock', 'Warp', 'Warpath', 'Wasp', 'White Queen', 'Winter Soldier', 'Wiz Kid', 'Wolfsbane', 'Wolverine', 'Wonder Girl', 'Wonder Man',\n",
    " 'Wonder Woman', 'Wyatt Wingfoot', 'X-23', 'X-Man', 'Yellow Claw', 'Yellowjacket', 'Yellowjacket II', 'Yoda', 'Zatanna','Zoom']\n",
    "\n",
    "wts= [441.0, 65.0, 90.0, 441.0, 122.0, 88.0, 61.0, 81.0, 104.0, 108.0, 90.0, 90.0, 72.0, 169.0, 173.0, 101.0, 68.0, 57.0,\n",
    " 54.0, 83.0, 90.0, 122.0, 86.0, 358.0, 135.0, 106.0, 146.0, 63.0, 68.0, 57.0, 98.0, 270.0, 59.0, 50.0, 101.0, 68.0, 54.0, 81.0,\n",
    " 63.0, 67.0, 180.0, 77.0, 54.0, 57.0, 52.0, 61.0, 95.0, 79.0, 133.0, 63.0, 181.0, 68.0, 216.0, 135.0, 71.0, 54.0, 124.0, 155.0, 113.0,\n",
    " 95.0, 58.0, 54.0, 86.0, 90.0, 52.0, 92.0, 90.0, 59.0, 61.0, 104.0, 86.0, 88.0, 97.0, 68.0, 56.0, 77.0, 230.0, 495.0, 86.0,\n",
    " 55.0, 97.0, 110.0, 135.0, 61.0, 99.0, 52.0, 90.0, 59.0, 158.0, 74.0, 81.0, 108.0, 90.0, 116.0, 108.0, 74.0, 74.0, 86.0, 61.0, 61.0, 62.0,\n",
    " 97.0, 63.0, 81.0, 50.0, 55.0, 54.0, 86.0, 170.0, 70.0, 78.0, 225.0, 67.0, 79.0, 99.0, 104.0, 50.0, 173.0, 88.0,\n",
    " 68.0, 52.0, 90.0, 81.0, 817.0, 56.0, 135.0, 27.0, 52.0, 90.0, 95.0, 91.0, 178.0, 101.0, 95.0, 383.0,90.0, 171.0, 187.0,\n",
    " 132.0, 89.0, 110.0, 81.0, 54.0, 63.0, 412.0, 104.0, 306.0, 56.0, 74.0, 59.0, 80.0, 65.0, 57.0, 203.0, 95.0, 106.0,\n",
    " 88.0, 96.0, 108.0,50.0, 18.0, 56.0, 99.0, 56.0, 91.0, 81.0, 88.0, 86.0, 52.0, 81.0, 45.0, 92.0, 104.0, 167.0, 16.0, 81.0,\n",
    " 77.0, 86.0, 99.0, 630.0, 268.0, 50.0, 62.0, 90.0, 270.0, 115.0, 79.0, 88.0, 83.0, 77.0, 88.0, 79.0, 4.0, 95.0, 90.0,\n",
    " 79.0, 63.0, 79.0, 89.0, 104.0, 57.0, 61.0, 88.0, 54.0, 65.0, 81.0, 225.0, 158.0, 61.0, 81.0, 146.0, 83.0, 48.0, 18.0, 630.0,\n",
    " 77.0, 59.0, 58.0, 77.0, 119.0,207.0, 65.0, 65.0, 81.0, 54.0, 79.0, 191.0, 79.0, 14.0, 77.0, 52.0,55.0, 56.0, 113.0, 90.0,\n",
    " 88.0, 86.0, 49.0, 52.0, 855.0, 81.0, 104.0, 72.0, 356.0, 324.0, 203.0, 97.0, 99.0, 106.0, 18.0, 79.0, 58.0, 63.0, 59.0,\n",
    " 95.0, 54.0, 65.0, 95.0, 360.0, 230.0, 288.0, 236.0, 36.0, 191.0, 77.0, 79.0, 383.0, 86.0, 225.0, 90.0, 97.0, 52.0,\n",
    " 135.0, 56.0, 81.0, 110.0, 72.0, 59.0, 54.0, 140.0, 72.0, 90.0, 90.0, 86.0, 77.0, 101.0, 61.0, 81.0, 86.0, 128.0,\n",
    " 61.0, 338.0, 248.0, 90.0, 101.0, 59.0, 79.0, 79.0, 72.0, 70.0, 158.0, 61.0, 70.0, 79.0, 54.0, 125.0, 85.0, 101.0,\n",
    " 54.0, 83.0, 99.0, 88.0, 79.0, 83.0, 86.0, 293.0, 191.0, 65.0, 69.0, 405.0, 59.0,117.0, 89.0, 79.0, 54.0, 52.0, 87.0, 80.0,\n",
    " 55.0, 50.0, 52.0, 81.0, 234.0, 86.0, 81.0, 70.0, 90.0, 74.0, 68.0, 83.0, 79.0, 56.0, 97.0, 50.0, 70.0, 117.0, 83.0, 81.0,\n",
    " 630.0, 56.0, 108.0, 146.0, 320.0, 85.0, 72.0, 79.0, 101.0, 56.0, 38.0, 25.0, 54.0, 104.0, 63.0, 171.0, 61.0, 203.0, 900.0, 63.0,\n",
    " 74.0, 113.0, 59.0, 310.0, 87.0, 149.0, 54.0, 50.0, 79.0, 88.0, 315.0, 153.0, 79.0, 52.0, 191.0, 101.0, 50.0, 92.0, 72.0, 52.0,\n",
    " 180.0, 49.0, 437.0, 65.0, 113.0, 405.0, 54.0, 56.0, 74.0, 59.0, 55.0, 58.0, 81.0, 83.0, 79.0, 71.0, 62.0, 63.0, 131.0, 91.0,\n",
    " 57.0, 77.0, 68.0, 77.0, 54.0, 101.0, 47.0, 74.0, 146.0, 99.0, 54.0,443.0, 101.0, 225.0, 288.0, 143.0, 101.0, 74.0, 288.0, 158.0, 203.0, 81.0,\n",
    " 54.0, 76.0, 97.0, 81.0, 59.0, 86.0, 82.0, 105.0, 331.0, 58.0, 54.0, 56.0, 214.0, 79.0, 73.0, 117.0, 50.0, 334.0, 52.0, 71.0,\n",
    " 54.0, 41.0, 135.0, 135.0, 63.0, 79.0, 162.0, 95.0, 54.0, 108.0, 67.0, 158.0, 50.0, 65.0, 117.0, 39.0, 473.0, 135.0, 51.0, 171.0,\n",
    " 74.0, 117.0, 50.0, 61.0, 95.0, 83.0, 52.0, 17.0, 57.0, 81.0]\n",
    "\n"
   ]
  },
  {
   "cell_type": "code",
   "execution_count": 6,
   "metadata": {},
   "outputs": [
    {
     "name": "stdout",
     "output_type": "stream",
     "text": [
      "25.2 µs ± 4.12 µs per loop (mean ± std. dev. of 5 runs, 25 loops each)\n"
     ]
    }
   ],
   "source": [
    "\n",
    "\n",
    "%timeit -r5 -n25 set(heroes)\n",
    "\n"
   ]
  },
  {
   "cell_type": "code",
   "execution_count": 7,
   "metadata": {},
   "outputs": [
    {
     "name": "stdout",
     "output_type": "stream",
     "text": [
      "[]\n",
      "[]\n"
     ]
    }
   ],
   "source": [
    "\n",
    "\n",
    "# Create a list using the formal name\n",
    "formal_list = list()\n",
    "print(formal_list)\n",
    "\n",
    "# Create a list using the literal syntax\n",
    "literal_list = []\n",
    "print(literal_list)\n",
    "\n"
   ]
  },
  {
   "cell_type": "code",
   "execution_count": 8,
   "metadata": {},
   "outputs": [
    {
     "name": "stdout",
     "output_type": "stream",
     "text": [
      "[]\n",
      "[]\n",
      "<class 'list'>\n",
      "<class 'list'>\n"
     ]
    }
   ],
   "source": [
    "\n",
    "\n",
    "# Create a list using the formal name\n",
    "formal_list = list()\n",
    "print(formal_list)\n",
    "\n",
    "# Create a list using the literal syntax\n",
    "literal_list = []\n",
    "print(literal_list)\n",
    "\n",
    "# Print out the type of formal_list\n",
    "print(type(formal_list))\n",
    "\n",
    "# Print out the type of literal_list\n",
    "print(type(literal_list))\n",
    "\n"
   ]
  },
  {
   "cell_type": "code",
   "execution_count": 9,
   "metadata": {},
   "outputs": [
    {
     "name": "stdout",
     "output_type": "stream",
     "text": [
      "217 ns ± 2.72 ns per loop (mean ± std. dev. of 7 runs, 1000000 loops each)\n",
      "51.8 ns ± 1.66 ns per loop (mean ± std. dev. of 7 runs, 10000000 loops each)\n"
     ]
    }
   ],
   "source": [
    "\n",
    "%timeit formal_list = list()\n",
    "\n",
    "%timeit literal_list = []\n"
   ]
  },
  {
   "cell_type": "code",
   "execution_count": 10,
   "metadata": {},
   "outputs": [
    {
     "name": "stdout",
     "output_type": "stream",
     "text": [
      "131 µs ± 1.71 µs per loop (mean ± std. dev. of 7 runs, 10000 loops each)\n"
     ]
    }
   ],
   "source": [
    "%%timeit hero_wts_lbs = []\n",
    "for wt in wts:\n",
    "    hero_wts_lbs.append(wt * 2.20462)\n",
    "    \n"
   ]
  },
  {
   "cell_type": "code",
   "execution_count": 11,
   "metadata": {},
   "outputs": [
    {
     "name": "stdout",
     "output_type": "stream",
     "text": [
      "2.2 µs ± 26 ns per loop (mean ± std. dev. of 7 runs, 100000 loops each)\n"
     ]
    }
   ],
   "source": [
    "%%timeit wts_np = np.array(wts)\n",
    "hero_wts_lbs_np = wts_np * 2.20462\n",
    "\n"
   ]
  }
 ],
 "metadata": {
  "kernelspec": {
   "display_name": "Python 3",
   "language": "python",
   "name": "python3"
  },
  "language_info": {
   "codemirror_mode": {
    "name": "ipython",
    "version": 3
   },
   "file_extension": ".py",
   "mimetype": "text/x-python",
   "name": "python",
   "nbconvert_exporter": "python",
   "pygments_lexer": "ipython3",
   "version": "3.6.7"
  }
 },
 "nbformat": 4,
 "nbformat_minor": 2
}
