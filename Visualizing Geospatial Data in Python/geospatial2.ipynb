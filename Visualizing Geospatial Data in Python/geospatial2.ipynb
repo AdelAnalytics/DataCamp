{
 "cells": [
  {
   "cell_type": "code",
   "execution_count": null,
   "metadata": {},
   "outputs": [],
   "source": [
    "# -*- coding: utf-8 -*-\n",
    "\"\"\"\n",
    "Created on Sat Mar  2 11:32:40 2019\n",
    "\n",
    "@author: mor\n",
    "\"\"\"\n",
    "\n",
    "import pandas as pd\n",
    "import numpy as np\n",
    "import matplotlib.pyplot as plt\n",
    "import geopandas as gpd \n",
    "\n"
   ]
  },
  {
   "cell_type": "code",
   "execution_count": null,
   "metadata": {},
   "outputs": [],
   "source": [
    "\n",
    "\n",
    "school_districts = gpd.read_file('data/school_districts.geojson')\n",
    "\n"
   ]
  },
  {
   "cell_type": "code",
   "execution_count": null,
   "metadata": {},
   "outputs": [],
   "source": [
    "\n",
    "\n",
    "# Set legend style\n",
    "lgnd_kwds = {'title': 'School Districts',\n",
    "               'loc': 'upper left', 'bbox_to_anchor': (1, 1.03), 'ncol': 1}\n",
    "\n",
    "# Plot the school districts using the tab20 colormap (qualitative)\n",
    "school_districts.plot(column = 'district', cmap = 'tab20', legend = True, legend_kwds  = lgnd_kwds)\n",
    "plt.xlabel('Latitude')\n",
    "plt.ylabel('Longitude')\n",
    "plt.title('Nashville School Districts')\n",
    "plt.show();\n",
    "\n"
   ]
  },
  {
   "cell_type": "code",
   "execution_count": null,
   "metadata": {},
   "outputs": [],
   "source": [
    "\n",
    "\n",
    "# Set legend style\n",
    "lgnd_kwds = {'title': 'School Districts',\n",
    "               'loc': 'upper left', 'bbox_to_anchor': (1, 1.03), 'ncol': 1}\n",
    "\n",
    "# Plot the school districts using the summer colormap (sequential)\n",
    "school_districts.plot(column = 'district', cmap = 'summer', legend = True, legend_kwds = lgnd_kwds)\n",
    "plt.xlabel('Latitude')\n",
    "plt.ylabel('Longitude')\n",
    "plt.title('Nashville School Districts')\n",
    "plt.show();\n",
    "\n"
   ]
  },
  {
   "cell_type": "code",
   "execution_count": null,
   "metadata": {},
   "outputs": [],
   "source": [
    "\n",
    "\n",
    "# Set legend style\n",
    "lgnd_kwds = {'title': 'School Districts',\n",
    "               'loc': 'upper left', 'bbox_to_anchor': (1, 1.03), 'ncol': 1}\n",
    "\n",
    "# Plot the school districts using Set3 colormap without the column argument\n",
    "school_districts.plot(cmap = 'Set3', legend = True, legend_kwds = lgnd_kwds)\n",
    "plt.xlabel('Latitude')\n",
    "plt.ylabel('Longitude')\n",
    "plt.title('Nashville School Districts')\n",
    "plt.show();\n",
    "\n"
   ]
  },
  {
   "cell_type": "code",
   "execution_count": null,
   "metadata": {},
   "outputs": [],
   "source": [
    "\n",
    "\n",
    "#save geojson\n",
    "\n",
    "#neighborhoods_path='https://assets.datacamp.com/production/repositories/2409/datasets/a534dea1e6a99373a5a8e9c2060ad8fb6b74e13c/neighborhoods.geojson'\n",
    "#neighborhoods.to_file(\"data/neighborhoods.geojson\", driver='GeoJSON')\n"
   ]
  },
  {
   "cell_type": "code",
   "execution_count": null,
   "metadata": {},
   "outputs": [],
   "source": [
    "\n",
    "\n",
    "neighborhoods_path = \"data/neighborhoods.geojson\"\n"
   ]
  },
  {
   "cell_type": "code",
   "execution_count": null,
   "metadata": {},
   "outputs": [],
   "source": [
    "\n",
    "import geopandas as gpd\n",
    "import matplotlib.pyplot as plt\n",
    "\n",
    "# Read in the neighborhoods geojson file\n",
    "neighborhoods = gpd.read_file(neighborhoods_path)\n",
    "\n",
    "# Print the first few rows of neighborhoods\n",
    "print(neighborhoods.head())\n",
    "\n",
    "# Plot the neighborhoods, color according to name and use the Dark2 colormap\n",
    "neighborhoods.plot(column = 'name', cmap = 'Dark2')\n",
    "\n",
    "# Show the plot.\n",
    "plt.show()\n",
    "\n"
   ]
  },
  {
   "cell_type": "code",
   "execution_count": null,
   "metadata": {},
   "outputs": [],
   "source": [
    "\n",
    "\n",
    "school_districts = gpd.read_file('data/school_districts.geojson')\n",
    "\n",
    "# Print the first row of school districts GeoDataFrame and the crs\n",
    "print(school_districts.head(1))\n",
    "print(school_districts.crs)\n",
    "\n",
    "# Convert the crs to epsg:3857\n",
    "school_districts.geometry = school_districts.geometry.to_crs(epsg = 3857)\n",
    "                        \n",
    "# Print the first row of school districts GeoDataFrame and the crs again\n",
    "print(school_districts.head(1))\n",
    "print(school_districts.crs)\n",
    "\n"
   ]
  },
  {
   "cell_type": "code",
   "execution_count": null,
   "metadata": {},
   "outputs": [],
   "source": [
    "\n",
    "\n",
    "#df=pd.read_csv('https://assets.datacamp.com/production/repositories/2409/datasets/284dd5ef16418d161af519d30ecc8471a23210ea/public_art.csv')\n",
    "#df.to_csv('data/public_art.csv',index=False)\n",
    "\n",
    "art=pd.read_csv('data/public_art.csv')\n",
    "art=art.rename(columns={'Latitude':'lat', 'Longitude':'lng'})\n"
   ]
  },
  {
   "cell_type": "code",
   "execution_count": null,
   "metadata": {},
   "outputs": [],
   "source": [
    "\n",
    "# =================================================================================\n",
    "# GeoDataFrame need: Data, Coordinate Reference Systems (crs) and geometry columns\n",
    "# =================================================================================\n",
    "\n",
    "import pandas as pd\n",
    "import geopandas as gpd\n",
    "from shapely.geometry import Point\n",
    "import matplotlib.pyplot as plt\n",
    "\n",
    "# Print the first few rows of the art DataFrame\n",
    "print(art.head())\n",
    "\n",
    "# Create a geometry column from lng & lat\n",
    "art['geometry'] = art.apply(lambda x: Point(float(x.lng), float(x.lat)), axis=1)\n",
    "\n",
    "# Create a GeoDataFrame from art and verify the type\n",
    "art_geo = gpd.GeoDataFrame(art, crs = neighborhoods.crs, geometry = art.geometry)\n",
    "print(type(art_geo))\n",
    "\n"
   ]
  },
  {
   "cell_type": "code",
   "execution_count": null,
   "metadata": {},
   "outputs": [],
   "source": [
    "\n",
    "\n",
    "# Spatially join art_geo and neighborhoods \n",
    "art_intersect_neighborhoods = gpd.sjoin(art_geo, neighborhoods, op = 'intersects')\n",
    "\n",
    "# Print the shape property of art_intersect_neighborhoods\n",
    "print(art_intersect_neighborhoods.shape)\n",
    "\n"
   ]
  },
  {
   "cell_type": "code",
   "execution_count": null,
   "metadata": {},
   "outputs": [],
   "source": [
    "\n",
    "\n",
    "# Create art_within_neighborhoods by spatially joining art_geo and neighborhoods\n",
    "art_within_neighborhoods = gpd.sjoin(art_geo, neighborhoods, op = 'within')\n",
    "\n",
    "# Print the shape property of art_within_neighborhoods\n",
    "print(art_within_neighborhoods.shape)\n",
    "\n"
   ]
  },
  {
   "cell_type": "code",
   "execution_count": null,
   "metadata": {},
   "outputs": [],
   "source": [
    "\n",
    "\n",
    "# Spatially join art_geo and neighborhoods and using the contains op\n",
    "art_containing_neighborhoods = gpd.sjoin(art_geo, neighborhoods, op = 'contains')\n",
    "\n",
    "# Print the shape property of art_containing_neighborhoods\n",
    "print(art_containing_neighborhoods.shape)\n",
    "\n"
   ]
  },
  {
   "cell_type": "code",
   "execution_count": null,
   "metadata": {},
   "outputs": [],
   "source": [
    "\n",
    "\n",
    "# import packages\n",
    "import geopandas as gpd\n",
    "import pandas as pd\n",
    "\n",
    "# Spatially join neighborhoods with art_geo\n",
    "neighborhood_art = gpd.sjoin(art_geo, neighborhoods, op = \"within\")\n",
    "\n",
    "# Print the first few rows\n",
    "print(neighborhood_art.head())\n",
    "\n"
   ]
  },
  {
   "cell_type": "code",
   "execution_count": null,
   "metadata": {},
   "outputs": [],
   "source": [
    "\n",
    "neighborhood_art.columns=neighborhood_art.columns.str.replace('[ ]','_').str.lower()\n",
    "\n"
   ]
  },
  {
   "cell_type": "code",
   "execution_count": null,
   "metadata": {},
   "outputs": [],
   "source": [
    "\n",
    "\n",
    "# Get name and title from neighborhood_art and group by name\n",
    "neighborhood_art_grouped = neighborhood_art[['name', 'title']].groupby('name')\n",
    "\n",
    "# Aggregate the grouped data and count the artworks within each polygon\n",
    "print(neighborhood_art_grouped.agg('count').sort_values(by = 'title', ascending = False))\n",
    "\n"
   ]
  },
  {
   "cell_type": "code",
   "execution_count": null,
   "metadata": {},
   "outputs": [],
   "source": [
    "\n",
    "\n",
    "# Create urban_art from neighborhood_art where the neighborhood name is Urban Residents\n",
    "urban_art = neighborhood_art.loc[neighborhood_art.name == \"Urban Residents\"]\n",
    "\n",
    "# Get just the Urban Residents neighborhood polygon and save it as urban_polygon\n",
    "urban_polygon = neighborhoods.loc[neighborhoods.name == \"Urban Residents\"]\n",
    "\n",
    "# Plot the urban_polygon as ax \n",
    "ax = urban_polygon.plot(color = 'lightgreen', figsize=(10, 10))\n",
    "\n",
    "# Add a plot of the urban_art and show it\n",
    "urban_art.plot( ax = ax, column = 'type', legend = True)\n",
    "plt.show()\n",
    "\n",
    "\n",
    "\n",
    "\n",
    "\n"
   ]
  }
 ],
 "metadata": {},
 "nbformat": 4,
 "nbformat_minor": 2
}
