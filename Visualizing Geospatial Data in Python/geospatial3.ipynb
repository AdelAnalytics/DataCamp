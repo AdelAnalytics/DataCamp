{
 "cells": [
  {
   "cell_type": "code",
   "execution_count": null,
   "metadata": {},
   "outputs": [],
   "source": [
    "# -*- coding: utf-8 -*-\n",
    "\"\"\"\n",
    "Created on Thu Mar  7 19:14:06 2019\n",
    "\n",
    "@author: mor\n",
    "\"\"\"\n",
    "\n",
    "import pandas as pd\n",
    "import numpy as np\n",
    "import matplotlib.pyplot as plt\n",
    "import geopandas as gpd \n",
    "from shapely.geometry import Point\n",
    "import folium\n"
   ]
  },
  {
   "cell_type": "code",
   "execution_count": null,
   "metadata": {},
   "outputs": [],
   "source": [
    "\n",
    "neighborhoods_path = \"data/neighborhoods.geojson\"\n",
    "\n",
    "# Read in the neighborhoods geojson file\n",
    "neighborhoods = gpd.read_file(neighborhoods_path)\n",
    "urban_polygon = neighborhoods.loc[neighborhoods.name == \"Urban Residents\"]\n",
    "\n"
   ]
  },
  {
   "cell_type": "code",
   "execution_count": null,
   "metadata": {},
   "outputs": [],
   "source": [
    "\n",
    "# Print the head of the urban polygon \n",
    "print(urban_polygon.head())\n",
    "\n",
    "# Create a copy of the urban_polygon using EPSG:3857 and print the head\n",
    "urban_poly_3857 = urban_polygon.to_crs(epsg = 3857)\n",
    "print(urban_poly_3857.head())\n",
    "\n",
    "# Print the area of urban_poly_3857 in kilometers squared\n",
    "area = urban_poly_3857.geometry.area.item() / 10**6\n",
    "print('The area of the Urban Residents neighborhood is ', area, ' km squared')\n",
    "\n"
   ]
  },
  {
   "cell_type": "code",
   "execution_count": null,
   "metadata": {},
   "outputs": [],
   "source": [
    "\n",
    "\n",
    "# Create downtown_center from urban_poly_3857\n",
    "downtown_center = urban_poly_3857.geometry.centroid\n",
    "\n",
    "# Print the type of downtown_center \n",
    "print(type(downtown_center))\n",
    "\n",
    "# Plot the urban_poly_3857 as ax and add the center point\n",
    "ax = urban_poly_3857.plot(color = 'lightgreen')\n",
    "downtown_center.plot(ax = ax, color = 'black')\n",
    "plt.xticks(rotation = 45)\n",
    "\n",
    "# Show the plot\n",
    "plt.show()\n",
    "\n"
   ]
  },
  {
   "cell_type": "code",
   "execution_count": null,
   "metadata": {},
   "outputs": [],
   "source": [
    "\n",
    "center_point=downtown_center.iloc[0]\n",
    "\n",
    "art=pd.read_csv('data/public_art.csv')\n",
    "art=art.rename(columns={'Latitude':'lat', 'Longitude':'lng'})\n",
    "art['geometry'] = art.apply(lambda x: Point(float(x.lng), float(x.lat)), axis=1)\n",
    "art.columns=art.columns.str.replace('[ ]','_').str.lower()\n"
   ]
  },
  {
   "cell_type": "code",
   "execution_count": null,
   "metadata": {},
   "outputs": [],
   "source": [
    "\n",
    "# Import packages\n",
    "from shapely.geometry import Point\n",
    "import geopandas as gpd\n",
    "import pandas as pd\n",
    "\n",
    "# Create art_dist_meters using art and the geometry from art\n",
    "art_dist_meters = gpd.GeoDataFrame(art, geometry = art.geometry, crs = {'init': 'epsg:4326'})\n",
    "print(art_dist_meters.head(2))\n",
    "\n",
    "# Set the crs of art_dist_meters to use EPSG:3857\n",
    "art_dist_meters.geometry = art_dist_meters.geometry.to_crs(epsg = 3857)\n",
    "print(art_dist_meters.head(2))\n",
    "\n",
    "# Add a column to art_meters, center\n",
    "art_dist_meters['center'] = center_point\n",
    "print(art_dist_meters)\n",
    "\n"
   ]
  },
  {
   "cell_type": "code",
   "execution_count": null,
   "metadata": {},
   "outputs": [],
   "source": [
    "\n",
    "\n",
    "# Import package for pretty printing\n",
    "import pprint\n",
    "\n",
    "# Build a dictionary of titles and distances for Urban Residents art\n",
    "art_distances = {}\n",
    "for row in art_dist_meters.iterrows():\n",
    "    vals = row[1]\n",
    "    key = vals['title']\n",
    "    ctr = vals['center']\n",
    "    art_distances[key] = vals['geometry'].distance(ctr)\n",
    "\n",
    "# Pretty print the art_distances\n",
    "pprint.pprint(art_distances)\n",
    "\n"
   ]
  },
  {
   "cell_type": "code",
   "execution_count": null,
   "metadata": {},
   "outputs": [],
   "source": [
    "\n",
    "urban_polygon['center']=downtown_center.to_crs(epsg = 4326)\n",
    "\n"
   ]
  },
  {
   "cell_type": "code",
   "execution_count": null,
   "metadata": {},
   "outputs": [],
   "source": [
    "\n",
    "\n",
    "# Print the head of the urban_polygon\n",
    "print(urban_polygon.head())\n",
    "\n",
    "# Create urban_center from the urban_polygon center\n",
    "urban_center = urban_polygon.center.iloc[0]\n",
    "\n",
    "# Print urban_center\n",
    "print(urban_center)\n",
    "\n",
    "# Create array for folium called urban_location\n",
    "urban_location = [urban_center.y, urban_center.x]\n",
    "\n",
    "# Print urban_location\n",
    "print(urban_location)\n",
    "\n"
   ]
  },
  {
   "cell_type": "code",
   "execution_count": null,
   "metadata": {},
   "outputs": [],
   "source": [
    "\n",
    "import webbrowser, os\n",
    "import tempfile \n",
    "import datetime\n",
    "\n",
    "BASE = os.getcwd()\n",
    "HTML= os.path.join(BASE,'html')\n",
    "\n",
    "def open_in_browser(m,filename=None,dir_file=HTML):\n",
    "    tmp=tempfile.NamedTemporaryFile(delete=False)\n",
    "    now = datetime.datetime.now()\n",
    "    timenow='_'+str(now.strftime(\"%Y-%m-%d_%H%M\"))\n",
    "    if filename:\n",
    "        path=filename+timenow+'.html'\n",
    "        path=os.path.join(dir_file, path)\n",
    "    else:\n",
    "        path=tmp.name+'.html'\n",
    "        \n",
    "    m.save(path)\n",
    "    webbrowser.open('file://' + path)\n"
   ]
  },
  {
   "cell_type": "code",
   "execution_count": null,
   "metadata": {},
   "outputs": [],
   "source": [
    "\n",
    "# Construct a folium map with urban_location\n",
    "downtown_map = folium.Map(location = urban_location, zoom_start = 15)\n",
    "\n",
    "# Display the map\n",
    "#display(downtown_map)\n",
    "\n",
    "open_in_browser(downtown_map)\n",
    "\n"
   ]
  },
  {
   "cell_type": "code",
   "execution_count": null,
   "metadata": {},
   "outputs": [],
   "source": [
    "\n",
    "\n",
    "# Create array for called folium_loc from the urban_polygon center point\n",
    "point = urban_polygon.center.iloc[0]\n",
    "folium_loc = [point.y, point.x]\n",
    "\n",
    "# Construct a map from folium_loc: downtown_map\n",
    "downtown_map = folium.Map(location = folium_loc, zoom_start= 15)\n",
    "\n",
    "# Draw our neighborhood: Urban Residents\n",
    "folium.GeoJson(urban_polygon.geometry).add_to(downtown_map)\n",
    "\n",
    "# Display the map\n",
    "#display(downtown_map)\n",
    "open_in_browser(downtown_map)\n",
    "\n"
   ]
  },
  {
   "cell_type": "code",
   "execution_count": null,
   "metadata": {},
   "outputs": [],
   "source": [
    "\n",
    "neighborhoods_path = \"data/neighborhoods.geojson\"\n",
    "neighborhoods = gpd.read_file(neighborhoods_path)\n",
    "\n",
    "art=pd.read_csv('data/public_art.csv')\n",
    "art=art.rename(columns={'Latitude':'lat', 'Longitude':'lng'})\n",
    "art['geometry'] = art.apply(lambda x: Point(float(x.lng), float(x.lat)), axis=1)\n",
    "\n",
    "art_geo = gpd.GeoDataFrame(art, crs = neighborhoods.crs, geometry = art.geometry)\n",
    "neighborhood_art = gpd.sjoin(art_geo, neighborhoods, op = \"within\")\n",
    "urban_art = neighborhood_art.loc[neighborhood_art.name == \"Urban Residents\"]\n",
    "urban_art.columns=urban_art.columns.str.replace('[ ]','_').str.lower()\n",
    "urban_art=urban_art.rename(columns={'description':'desc'})\n"
   ]
  },
  {
   "cell_type": "code",
   "execution_count": null,
   "metadata": {},
   "outputs": [],
   "source": [
    "\n",
    "# Iterate through the urban_art and print each part of tuple returned\n",
    "for row in urban_art.iterrows():\n",
    "  print('first part: ', row[0])\n",
    "  print('second part: ', row[1])\n",
    "\n",
    "# Create a location and marker with each iteration for the downtown_map\n",
    "for row in urban_art.iterrows():\n",
    "    row_values = row[1] \n",
    "    location = [row_values['lat'], row_values['lng']]\n",
    "    marker = folium.Marker(location = location)\n",
    "    marker.add_to(downtown_map)\n",
    "\n",
    "# Display the map\n",
    "#display(downtown_map)\n",
    "open_in_browser(downtown_map)\n",
    "\n"
   ]
  },
  {
   "cell_type": "code",
   "execution_count": null,
   "metadata": {},
   "outputs": [],
   "source": [
    "\n",
    "\n",
    "# Print the urban_art titles\n",
    "print(urban_art.title)\n",
    "\n",
    "#Print the urban_art descriptions\n",
    "print(urban_art.desc)\n",
    "\n",
    "# Replace Nan and ' values in description\n",
    "urban_art.desc.fillna('', inplace = True)\n",
    "urban_art.desc = urban_art.desc.str.replace(\"`\", \"'\")\n",
    "\n",
    "#Print the urban_art descriptions again\n",
    "print(urban_art.desc)\n",
    "\n"
   ]
  },
  {
   "cell_type": "code",
   "execution_count": null,
   "metadata": {},
   "outputs": [],
   "source": [
    "\n",
    "nashville=[36.16127820928791, -86.77756457127047]\n",
    "urban_polygon=urban_polygon[['name','geometry']]\n",
    "\n"
   ]
  },
  {
   "cell_type": "code",
   "execution_count": null,
   "metadata": {},
   "outputs": [],
   "source": [
    "\n",
    "\n",
    "# Construct downtown map\n",
    "downtown_map = folium.Map(location = nashville, zoom_start = 15)\n",
    "folium.GeoJson(urban_polygon).add_to(downtown_map)\n",
    "\n",
    "# Create popups inside the loop you built to create the markers\n",
    "\n",
    "for row in urban_art.iterrows():\n",
    "    row_values = row[1] \n",
    "    location = [row_values['lat'], row_values['lng']]\n",
    "    popup = (str(row_values['title']) + ': ' + \n",
    "             str(row_values['desc'])).replace(\"`\", \"'\")\n",
    "    print(location)\n",
    "    print(popup)\n",
    "    marker = folium.Marker(location = location, popup = popup)\n",
    "    marker.add_to(downtown_map)\n",
    "\n",
    "# Display the map.\n",
    "#display(downtown_map)\n",
    "open_in_browser(downtown_map)"
   ]
  }
 ],
 "metadata": {},
 "nbformat": 4,
 "nbformat_minor": 2
}
