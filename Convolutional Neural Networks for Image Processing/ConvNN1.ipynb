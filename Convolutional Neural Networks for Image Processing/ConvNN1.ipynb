{
 "cells": [
  {
   "cell_type": "code",
   "execution_count": null,
   "metadata": {},
   "outputs": [],
   "source": [
    "\n",
    "import matplotlib.pyplot as plt\n",
    "import numpy as np\n",
    "import pandas as pd\n",
    "import ast\n",
    "from keras.models import Sequential\n",
    "from keras.layers import Dense\n",
    "\n"
   ]
  },
  {
   "cell_type": "code",
   "execution_count": null,
   "metadata": {},
   "outputs": [],
   "source": [
    "\n",
    "\n",
    "\n",
    "# Import matplotlib\n",
    "import matplotlib.pyplot as plt\n",
    "\n",
    "# Load the image\n",
    "data = plt.imread('bricks.png')\n",
    "\n",
    "# Display the image\n",
    "plt.imshow(data)\n",
    "plt.show()\n"
   ]
  },
  {
   "cell_type": "code",
   "execution_count": null,
   "metadata": {},
   "outputs": [],
   "source": [
    "\n",
    "\n",
    "# Set the red channel in this part of the image to 1\n",
    "data[0:10,0:10,0] = 1\n",
    "\n",
    "# Set the green channel in this part of the image to 0\n",
    "data[0:10,0:10,1] = 0\n",
    "\n",
    "# Set the blue channel in this part of the image to 0\n",
    "data[0:10,0:10,2] = 0\n",
    "\n",
    "# Visualize the result\n",
    "plt.imshow(data)\n",
    "plt.show()\n",
    "\n"
   ]
  },
  {
   "cell_type": "code",
   "execution_count": null,
   "metadata": {},
   "outputs": [],
   "source": [
    "\n",
    "\n",
    "labels = ['shoe', 'shirt', 'shoe', 'shirt', 'dress', 'dress', 'dress']\n",
    "\n"
   ]
  },
  {
   "cell_type": "code",
   "execution_count": null,
   "metadata": {},
   "outputs": [],
   "source": [
    "\n",
    "# The number of image categories\n",
    "n_categories = 3\n",
    "\n",
    "# The unique values of categories in the data\n",
    "categories = np.array([\"shirt\", \"dress\", \"shoe\"])\n",
    "\n",
    "# Initialize ohe_labels as all zeros\n",
    "ohe_labels = np.zeros((len(labels), n_categories))\n",
    "\n",
    "# Loop over the labels\n",
    "for ii in range(len(labels)):\n",
    "    # Find the location of this label in the categories variable\n",
    "    jj = np.where(categories==labels[ii])\n",
    "    # Set the corresponding zero to one\n",
    "    ohe_labels[ii,jj] = 1\n",
    "\n"
   ]
  },
  {
   "cell_type": "code",
   "execution_count": null,
   "metadata": {},
   "outputs": [],
   "source": [
    "\n",
    "\n",
    "# =============================================================================\n",
    "# another way for the above exercise    \n",
    "# =============================================================================\n",
    "df=pd.get_dummies(labels,columns=[\"shirt\", \"dress\", \"shoe\"],dtype=float)[[\"shirt\", \"dress\", \"shoe\"]]\n",
    "ohe_labels2=df.values\n",
    "\n"
   ]
  },
  {
   "cell_type": "code",
   "execution_count": null,
   "metadata": {},
   "outputs": [],
   "source": [
    "\n",
    "\n",
    "test_labels=np.array([[0., 0., 1.],\n",
    "                      [0., 1., 0.],\n",
    "                      [0., 0., 1.],\n",
    "                      [0., 1., 0.],\n",
    "                      [0., 0., 1.],\n",
    "                      [0., 0., 1.],\n",
    "                      [0., 0., 1.],\n",
    "                      [0., 1., 0.]])\n",
    "\n",
    "\n",
    "predictions=np.array([[0., 0., 1.],\n",
    "                      [0., 1., 0.],\n",
    "                      [0., 0., 1.],\n",
    "                      [1., 0., 0.],\n",
    "                      [0., 0., 1.],\n",
    "                      [1., 0., 0.],\n",
    "                      [0., 0., 1.],\n",
    "                      [0., 1., 0.]])\n",
    "    \n",
    "    \n"
   ]
  },
  {
   "cell_type": "code",
   "execution_count": null,
   "metadata": {},
   "outputs": [],
   "source": [
    "\n",
    "\n",
    "# Calculate the number of correct predictions\n",
    "number_correct = np.sum(test_labels*predictions)\n",
    "print(number_correct)\n",
    "\n",
    "# Calculate the proportion of correct predictions\n",
    "proportion_correct = number_correct/len(test_labels)\n",
    "print(proportion_correct)\n",
    "\n"
   ]
  },
  {
   "cell_type": "code",
   "execution_count": null,
   "metadata": {},
   "outputs": [],
   "source": [
    "\n",
    "\n",
    "# Imports components from Keras\n",
    "from keras.models import Sequential\n",
    "from keras.layers import Dense\n",
    "\n",
    "# Initializes a sequential model\n",
    "model = Sequential()\n",
    "\n",
    "# First layer\n",
    "model.add(Dense(10, activation='relu', input_shape=(784,)))\n",
    "\n",
    "# Second layer\n",
    "model.add(Dense(10, activation='relu'))\n",
    "\n",
    "# Output layer\n",
    "model.add(Dense(3,activation='softmax'))\n",
    "\n"
   ]
  },
  {
   "cell_type": "code",
   "execution_count": null,
   "metadata": {},
   "outputs": [],
   "source": [
    "\n",
    "\n",
    "# Compile the model\n",
    "model.compile(optimizer='adam', \n",
    "           loss='categorical_crossentropy', \n",
    "           metrics=['accuracy'])\n",
    "\n"
   ]
  },
  {
   "cell_type": "code",
   "execution_count": null,
   "metadata": {},
   "outputs": [],
   "source": [
    "\n",
    "import ast\n",
    "path_train=\"data/fashion_train_data.txt\"\n",
    "path_label=\"data/fashion_train_label.txt\"\n",
    "\n",
    "with open(path_train, 'r') as f:\n",
    "    train_data = np.array(ast.literal_eval(f.read()))\n",
    "\n",
    "with open(path_label, 'r') as f:\n",
    "    train_labels = np.array(ast.literal_eval(f.read()))\n",
    "    \n",
    "\n",
    "\n"
   ]
  },
  {
   "cell_type": "code",
   "execution_count": null,
   "metadata": {},
   "outputs": [],
   "source": [
    "\n",
    "# Reshape the data to two-dimensional array\n",
    "train_data = train_data.reshape(50, -1)\n",
    "\n",
    "# Fit the model\n",
    "model.fit(train_data, train_labels, validation_split=0.2, epochs=3)\n",
    "\n"
   ]
  },
  {
   "cell_type": "code",
   "execution_count": null,
   "metadata": {},
   "outputs": [],
   "source": [
    "\n",
    "\n",
    "path_test=\"data/fashion_test_data.txt\"\n",
    "with open(path_test, 'r') as f:\n",
    "    test_data = np.array(ast.literal_eval(f.read()))\n",
    "\n",
    "test_labels=np.array([[0., 0., 1.],\n",
    "                      [0., 0., 1.],\n",
    "                      [0., 1., 0.],\n",
    "                      [0., 0., 1.],\n",
    "                      [1., 0., 0.],\n",
    "                      [0., 1., 0.],\n",
    "                      [1., 0., 0.],\n",
    "                      [1., 0., 0.],\n",
    "                      [0., 0., 1.],\n",
    "                      [1., 0., 0.]])\n",
    "\n"
   ]
  },
  {
   "cell_type": "code",
   "execution_count": null,
   "metadata": {},
   "outputs": [],
   "source": [
    "\n",
    "\n",
    "# Reshape test data\n",
    "test_data = test_data.reshape(-1, 784)\n",
    "\n",
    "# Evaluate the model\n",
    "model.evaluate(test_data, test_labels)\n",
    "\n",
    "\n",
    "    \n",
    "    "
   ]
  }
 ],
 "metadata": {},
 "nbformat": 4,
 "nbformat_minor": 2
}
