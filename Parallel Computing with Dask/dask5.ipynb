{
 "cells": [
  {
   "cell_type": "code",
   "execution_count": 1,
   "metadata": {},
   "outputs": [],
   "source": [
    "# -*- coding: utf-8 -*-\n",
    "\"\"\"\n",
    "Created on Sat Aug 10 09:39:59 2019\n",
    "\n",
    "@author: mor\n",
    "\"\"\"\n",
    "\n",
    "import numpy as np\n",
    "import pandas as pd\n",
    "import matplotlib.pyplot as plt\n",
    "import dask\n",
    "import dask.array as da\n",
    "from dask import delayed\n",
    "import time\n",
    "import dask.dataframe as dd\n",
    "import dask.bag as db\n",
    "import glob\n",
    "import json\n",
    "\n"
   ]
  },
  {
   "cell_type": "code",
   "execution_count": 2,
   "metadata": {},
   "outputs": [],
   "source": [
    "\n",
    "\n",
    "# Define @delayed-function read_flights\n",
    "@delayed\n",
    "def read_flights(filename):\n",
    "\n",
    "    # Read in the DataFrame: df\n",
    "    df = pd.read_csv(filename,parse_dates=['FL_DATE'])\n",
    "\n",
    "    # Replace 0s in df['WEATHER_DELAY'] with np.nan\n",
    "    df['WEATHER_DELAY'] = df['WEATHER_DELAY'].replace(0,np.nan)\n",
    "\n",
    "    # Return df\n",
    "    return df\n",
    "\n"
   ]
  },
  {
   "cell_type": "code",
   "execution_count": 3,
   "metadata": {},
   "outputs": [
    {
     "name": "stdout",
     "output_type": "stream",
     "text": [
      "['data/flightdelays\\\\flightdelays-2016-1.csv', 'data/flightdelays\\\\flightdelays-2016-2.csv', 'data/flightdelays\\\\flightdelays-2016-3.csv', 'data/flightdelays\\\\flightdelays-2016-4.csv', 'data/flightdelays\\\\flightdelays-2016-5.csv']\n"
     ]
    }
   ],
   "source": [
    "\n",
    "    \n",
    "filenames=glob.glob('data/flightdelays/*.csv')\n",
    "print(filenames)\n",
    "\n"
   ]
  },
  {
   "cell_type": "code",
   "execution_count": 4,
   "metadata": {},
   "outputs": [
    {
     "name": "stdout",
     "output_type": "stream",
     "text": [
      "51.29467680608365\n"
     ]
    }
   ],
   "source": [
    "\n",
    "\n",
    "dataframes=[]   \n",
    "# Loop over filenames with index filename\n",
    "for filename in filenames:\n",
    "    # Apply read_flights to filename; append to dataframes\n",
    "    dataframes.append(read_flights(filename))\n",
    "\n",
    "# Compute flight delays: flight_delays\n",
    "flight_delays = dd.from_delayed(dataframes)\n",
    "\n",
    "# Print average of 'WEATHER_DELAY' column of flight_delays\n",
    "print(flight_delays['WEATHER_DELAY'].mean().compute())\n",
    "\n"
   ]
  },
  {
   "cell_type": "code",
   "execution_count": 5,
   "metadata": {},
   "outputs": [],
   "source": [
    "\n",
    "\n",
    "# Define @delayed-function read_weather with input filename\n",
    "@delayed\n",
    "def read_weather(filename):\n",
    "    # Read in filename: df\n",
    "    df = pd.read_csv(filename,parse_dates=['Date'])\n",
    "\n",
    "    # Clean 'PrecipitationIn'\n",
    "    df['PrecipitationIn'] = pd.to_numeric(df['PrecipitationIn'], errors='coerce')\n",
    "\n",
    "    # Create the 'Airport' column\n",
    "    df['Airport'] = filename.split('.')[0][-3:]\n",
    "\n",
    "    # Return df\n",
    "    return df\n",
    "\n"
   ]
  },
  {
   "cell_type": "code",
   "execution_count": 6,
   "metadata": {},
   "outputs": [],
   "source": [
    "\n",
    "\n",
    "filenames=sorted(glob.glob('data/weatherdata/???.csv'))\n"
   ]
  },
  {
   "cell_type": "code",
   "execution_count": 7,
   "metadata": {},
   "outputs": [
    {
     "name": "stdout",
     "output_type": "stream",
     "text": [
      "          Date  Max TemperatureF  Mean TemperatureF  Min TemperatureF  \\\n",
      "224 2016-08-12               107                 93                79   \n",
      "\n",
      "     Max Dew PointF  MeanDew PointF  Min DewpointF  Max Humidity  \\\n",
      "224              75              71             66            79   \n",
      "\n",
      "     Mean Humidity  Min Humidity   ...     Mean VisibilityMiles  \\\n",
      "224             53            27   ...                        8   \n",
      "\n",
      "     Min VisibilityMiles  Max Wind SpeedMPH  Mean Wind SpeedMPH  \\\n",
      "224                    0                 41                  10   \n",
      "\n",
      "     Max Gust SpeedMPH  PrecipitationIn  CloudCover             Events  \\\n",
      "224               54.0             0.82           5  Rain-Thunderstorm   \n",
      "\n",
      "     WindDirDegrees  Airport  \n",
      "224             214      DFW  \n",
      "\n",
      "[1 rows x 24 columns]\n"
     ]
    }
   ],
   "source": [
    "\n",
    "weather_dfs=[]\n",
    "# Loop over filenames with filename\n",
    "for filename in filenames:\n",
    "    # Invoke read_weather on filename; append result to weather_dfs\n",
    "    weather_dfs.append(read_weather(filename))\n",
    "\n",
    "# Call dd.from_delayed() with weather_dfs: weather\n",
    "weather = dd.from_delayed(weather_dfs)\n",
    "\n",
    "# Print result of weather.nlargest(1, 'Max TemperatureF')\n",
    "print(weather.nlargest(1, 'Max TemperatureF').compute())\n",
    "\n",
    "\n"
   ]
  },
  {
   "cell_type": "code",
   "execution_count": 8,
   "metadata": {},
   "outputs": [
    {
     "name": "stdout",
     "output_type": "stream",
     "text": [
      "Airport\n",
      "ATL    1.94\n",
      "DEN    5.59\n",
      "ORD    3.91\n",
      "Name: PrecipitationIn, dtype: float64\n"
     ]
    }
   ],
   "source": [
    "\n",
    "\n",
    "# Make cleaned Boolean Series from weather['Events']: is_snowy\n",
    "is_snowy = weather['Events'].str.contains('Snow').fillna(False)\n",
    "\n",
    "# Create filtered DataFrame with weather.loc & is_snowy: got_snow\n",
    "got_snow = weather.loc[is_snowy]\n",
    "\n",
    "# Groupby 'Airport' column; select 'PrecipitationIn'; aggregate sum(): result\n",
    "result = got_snow.groupby('Airport')['PrecipitationIn'].sum()\n",
    "\n",
    "# Compute & print the value of result\n",
    "print(result.compute())\n",
    "\n"
   ]
  },
  {
   "cell_type": "code",
   "execution_count": 9,
   "metadata": {},
   "outputs": [],
   "source": [
    "\n",
    "\n",
    "weather_delays=dd.merge(flight_delays[['FL_DATE','ORIGIN','WEATHER_DELAY']],weather[['Date', 'Events' ,'Airport']]\n",
    "                        ,left_on=['ORIGIN','FL_DATE'],right_on=['Airport','Date'],how='inner')\n",
    "\n"
   ]
  },
  {
   "cell_type": "code",
   "execution_count": 10,
   "metadata": {},
   "outputs": [],
   "source": [
    "\n",
    "def percent_delayed(df):\n",
    "    return (df['WEATHER_DELAY'].count() / len(df)) * 100\n",
    "\n"
   ]
  },
  {
   "cell_type": "code",
   "execution_count": 11,
   "metadata": {},
   "outputs": [
    {
     "name": "stdout",
     "output_type": "stream",
     "text": [
      "1.304773408863712\n",
      "133991.59574508667\n",
      "1.304773408863712\n",
      "6.914615631103516\n"
     ]
    }
   ],
   "source": [
    "\n",
    "\n",
    "# Print time in milliseconds to compute percent_delayed on weather_delays\n",
    "t_start = time.time()\n",
    "print(percent_delayed(weather_delays).compute())\n",
    "t_end = time.time()\n",
    "print((t_end-t_start)*1000)\n",
    "\n",
    "# Call weather_delays.persist(): persisted_weather_delays\n",
    "persisted_weather_delays = weather_delays.persist()\n",
    "\n",
    "# Print time in milliseconds to compute percent_delayed on persisted_weather_delays\n",
    "t_start = time.time()\n",
    "print(percent_delayed(persisted_weather_delays).compute())\n",
    "t_end = time.time()\n",
    "print((t_end-t_start)*1000)\n",
    "\n",
    "\n"
   ]
  },
  {
   "cell_type": "code",
   "execution_count": 12,
   "metadata": {},
   "outputs": [
    {
     "name": "stdout",
     "output_type": "stream",
     "text": [
      "Events\n",
      "Rain-Thunderstorm    34.237829\n",
      "Snow                 13.647247\n",
      "Rain                  7.023144\n",
      "Fog-Snow              5.107741\n",
      "Rain-Snow             3.591381\n",
      "Name: WEATHER_DELAY, dtype: float64\n",
      "Events\n",
      "Rain-Snow                84.755556\n",
      "Thunderstorm             56.000000\n",
      "Fog-Rain                 55.000000\n",
      "Rain-Thunderstorm        50.421911\n",
      "Fog-Rain-Thunderstorm    37.769231\n",
      "Name: WEATHER_DELAY, dtype: float64\n"
     ]
    }
   ],
   "source": [
    "\n",
    "\n",
    "# Group persisted_weather_delays by 'Events': by_event\n",
    "by_event = persisted_weather_delays.groupby('Events')\n",
    "\n",
    "# Count 'by_event['WEATHER_DELAY'] column & divide by total number of delayed flights\n",
    "pct_delayed = by_event['WEATHER_DELAY'].count()/persisted_weather_delays['WEATHER_DELAY'].count()*100\n",
    "\n",
    "# Compute & print five largest values of pct_delayed\n",
    "print(pct_delayed.nlargest(5).compute())\n",
    "\n",
    "# Calculate mean of by_event['WEATHER_DELAY'] column & return the 5 largest entries: avg_delay_time\n",
    "avg_delay_time = by_event['WEATHER_DELAY'].mean().nlargest(5)\n",
    "\n",
    "# Compute & print avg_delay_time\n",
    "print(avg_delay_time.compute())\n",
    "\n",
    "\n",
    "\n"
   ]
  }
 ],
 "metadata": {
  "kernelspec": {
   "display_name": "Python 3",
   "language": "python",
   "name": "python3"
  },
  "language_info": {
   "codemirror_mode": {
    "name": "ipython",
    "version": 3
   },
   "file_extension": ".py",
   "mimetype": "text/x-python",
   "name": "python",
   "nbconvert_exporter": "python",
   "pygments_lexer": "ipython3",
   "version": "3.6.7"
  }
 },
 "nbformat": 4,
 "nbformat_minor": 2
}
