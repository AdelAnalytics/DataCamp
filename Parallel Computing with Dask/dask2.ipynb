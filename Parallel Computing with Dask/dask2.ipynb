{
 "cells": [
  {
   "cell_type": "code",
   "execution_count": 1,
   "metadata": {},
   "outputs": [],
   "source": [
    "# -*- coding: utf-8 -*-\n",
    "\"\"\"\n",
    "Created on Tue Jun  4 20:59:58 2019\n",
    "\n",
    "@author: mor\n",
    "\"\"\"\n",
    "\n",
    "import numpy as np\n",
    "import matplotlib.pyplot as plt\n",
    "import dask.array as da\n",
    "import h5py\n",
    "import time\n"
   ]
  },
  {
   "cell_type": "code",
   "execution_count": 2,
   "metadata": {},
   "outputs": [
    {
     "name": "stdout",
     "output_type": "stream",
     "text": [
      "['load']\n"
     ]
    }
   ],
   "source": [
    "\n",
    "\n",
    "with h5py.File('data/Texas/texas.2000.hdf5','r') as dset:\n",
    "    print(list(dset))\n",
    "    energy = dset['load'][:]\n",
    "\n"
   ]
  },
  {
   "cell_type": "code",
   "execution_count": 3,
   "metadata": {},
   "outputs": [],
   "source": [
    "\n",
    "\n",
    "energy_dask=da.from_array(energy, chunks=energy.shape[0]//8)\n",
    "\n"
   ]
  },
  {
   "cell_type": "code",
   "execution_count": 4,
   "metadata": {},
   "outputs": [
    {
     "name": "stdout",
     "output_type": "stream",
     "text": [
      "(35136,)\n",
      "213552618.12\n"
     ]
    }
   ],
   "source": [
    "\n",
    "\n",
    "print(energy_dask.shape)\n",
    "print(energy_dask.sum().compute())\n",
    "\n"
   ]
  },
  {
   "cell_type": "code",
   "execution_count": 5,
   "metadata": {},
   "outputs": [
    {
     "name": "stdout",
     "output_type": "stream",
     "text": [
      "((8784, 8784, 8784, 8784),)\n",
      "6077.886444672131\n",
      "6077.886444672131\n"
     ]
    }
   ],
   "source": [
    "\n",
    "\n",
    "# Call da.from_array():  energy_dask\n",
    "energy_dask = da.from_array(energy,energy.shape[0]//4)\n",
    "\n",
    "# Print energy_dask.chunks\n",
    "print(energy_dask.chunks)\n",
    "\n",
    "# Print Dask array average and then NumPy array average\n",
    "print(energy_dask.mean().compute())\n",
    "print(energy.mean())\n",
    "\n"
   ]
  },
  {
   "cell_type": "code",
   "execution_count": 6,
   "metadata": {},
   "outputs": [
    {
     "name": "stdout",
     "output_type": "stream",
     "text": [
      "19.436359405517578\n"
     ]
    }
   ],
   "source": [
    "\n",
    "\n",
    "# Import time\n",
    "import time\n",
    "\n",
    "# Call da.from_array() with arr: energy_dask4\n",
    "energy_dask4 = da.from_array(energy,energy.shape[0]//4)\n",
    "\n",
    "# Print the time to compute standard deviation\n",
    "t_start = time.time()\n",
    "std_4 = energy_dask4.std().compute()\n",
    "t_end = time.time()\n",
    "print((t_end - t_start) * 1.0e3)\n",
    "\n"
   ]
  },
  {
   "cell_type": "code",
   "execution_count": 7,
   "metadata": {},
   "outputs": [
    {
     "name": "stdout",
     "output_type": "stream",
     "text": [
      "28.232336044311523\n"
     ]
    }
   ],
   "source": [
    "\n",
    "\n",
    "# Import time\n",
    "import time\n",
    "\n",
    "# Call da.from_array() with arr: energy_dask8\n",
    "energy_dask8 = da.from_array(energy, chunks=energy.shape[0]//8)\n",
    "\n",
    "# Print the time to compute standard deviation\n",
    "t_start = time.time()\n",
    "std_8 = energy_dask8.std().compute()\n",
    "t_end = time.time()\n",
    "print((t_end - t_start) * 1.0e3)\n",
    "\n"
   ]
  },
  {
   "cell_type": "code",
   "execution_count": 8,
   "metadata": {},
   "outputs": [
    {
     "name": "stdout",
     "output_type": "stream",
     "text": [
      "['load']\n"
     ]
    }
   ],
   "source": [
    "\n",
    "\n",
    "with h5py.File('data/Texas/texas.2001.hdf5','r') as dset:\n",
    "    print(list(dset))\n",
    "    load_2001 = dset['load'][:]\n",
    "\n",
    "load_recent=np.array([])\n",
    "for i in range(2013,2016):\n",
    "    with h5py.File('data/Texas/texas.'+str(i)+'.hdf5','r') as dset:\n",
    "        load = dset['load'][:]\n",
    "    if not load_recent.size:\n",
    "        load_recent=load\n",
    "    else:\n",
    "        load_recent=np.concatenate((load_recent,load),axis=0)\n",
    "\n"
   ]
  },
  {
   "cell_type": "code",
   "execution_count": 9,
   "metadata": {},
   "outputs": [
    {
     "name": "stdout",
     "output_type": "stream",
     "text": [
      "[-1153.309    22.598   -17.925]\n"
     ]
    }
   ],
   "source": [
    "\n",
    "\n",
    "# Reshape load_recent to three dimensions: load_recent_3d\n",
    "load_recent_3d=load_recent.reshape((3,365,96))\n",
    "\n",
    "# Reshape load_2001 to three dimensions: load_2001_3d\n",
    "load_2001_3d = load_2001.reshape((1,365,96))\n",
    "\n",
    "# Subtract the load in 2001 from the load in 2013 - 2015: diff_3d\n",
    "diff_3d = load_recent_3d - load_2001_3d\n",
    "\n",
    "# Print the difference each year on March 2 at noon\n",
    "print(diff_3d[:, 61, 48])\n",
    "\n"
   ]
  },
  {
   "cell_type": "code",
   "execution_count": 10,
   "metadata": {},
   "outputs": [
    {
     "name": "stdout",
     "output_type": "stream",
     "text": [
      "5240.84666194825\n",
      "[6335.42  6336.159 6344.077]\n",
      "498208.76199999993\n"
     ]
    }
   ],
   "source": [
    "\n",
    "\n",
    "# Print mean value of load_recent_3d\n",
    "print(load_recent_3d.mean())\n",
    "\n",
    "# Print maximum of load_recent_3d across 2nd & 3rd dimensions\n",
    "print(load_recent_3d.max(axis=(1,2)))\n",
    "\n",
    "# Compute sum along last dimension of load_recent_3d: daily_consumption\n",
    "daily_consumption = load_recent_3d.sum(axis=-1)\n",
    "\n",
    "# Print mean of 62nd row of daily_consumption\n",
    "print(daily_consumption[:,62].mean()) \n",
    "\n"
   ]
  },
  {
   "cell_type": "code",
   "execution_count": 11,
   "metadata": {},
   "outputs": [],
   "source": [
    "\n",
    "\n",
    "# Import h5py and dask.array\n",
    "import h5py\n",
    "import dask.array as da\n",
    "\n",
    "\n",
    "# =============================================================================\n",
    "# original - data not exists therefore unable to run\n",
    "# =============================================================================\n",
    "# List comprehension to read each file: dsets\n",
    "\n",
    "#dsets = [h5py.File(f)['tmax'] for f in filenames]\n",
    "# =============================================================================\n",
    "# original - data not exists therefore unable to run\n",
    "# =============================================================================\n",
    "\n",
    "dsets=[np.random.rand(12,444,922),np.random.rand(12,444,922),np.random.rand(12,444,922),np.random.rand(12,444,922)]\n",
    "\n",
    "# List comprehension to make dask arrays: monthly\n",
    "monthly = [da.from_array(d, chunks=(1,444,922)) for d in dsets]    \n",
    "    \n"
   ]
  },
  {
   "cell_type": "code",
   "execution_count": 12,
   "metadata": {},
   "outputs": [
    {
     "name": "stdout",
     "output_type": "stream",
     "text": [
      "(4, 12, 444, 922)\n"
     ]
    }
   ],
   "source": [
    "\n",
    "\n",
    "# Stack with the list of dask arrays: by_year\n",
    "by_year = da.stack(monthly, axis=0)\n",
    "\n",
    "# Print the shape of the stacked arrays\n",
    "print(by_year.shape)\n",
    "\n",
    "# =============================================================================\n",
    "# original - data not exists therefore unable to run\n",
    "# =============================================================================\n",
    "# Read the climatology data: climatology\n",
    "#dset = h5py.File('tmax.climate.hdf5')\n",
    "#climatology = da.from_array(dset['/tmax'], chunks=(1,444,922))\n",
    "# =============================================================================\n",
    "# original - data not exists therefore unable to run\n",
    "# =============================================================================\n",
    "climatology = da.from_array(monthly[0], chunks=(1,444,922))\n",
    "\n",
    "# Reshape the climatology data to be compatible with months\n",
    "climatology=climatology.reshape((1,12,444,922))\n",
    "\n"
   ]
  },
  {
   "cell_type": "code",
   "execution_count": 13,
   "metadata": {},
   "outputs": [
    {
     "data": {
      "image/png": "[encoded data removed]",
      "text/plain": [
       "<Figure size 432x288 with 1 Axes>"
      ]
     },
     "metadata": {
      "needs_background": "light"
     },
     "output_type": "display_data"
    }
   ],
   "source": [
    "\n",
    "\n",
    "# Compute the difference: diff\n",
    "diff = (climatology-by_year)*9/5\n",
    "# Compute the average over last two axes: avg\n",
    "avg = da.nanmean(diff,axis=(-1,-2))\n",
    "# Plot the slices [:,0], [:,7], and [:11] against the x values\n",
    "x = range(2008,2012)\n",
    "f, ax = plt.subplots()\n",
    "ax.plot(x,avg[:,0], label='Jan')\n",
    "ax.plot(x,avg[:,7], label='Aug')\n",
    "ax.plot(x,avg[:,11], label='Dec')\n",
    "ax.axhline(0, color='red')\n",
    "ax.set_xlabel('Year')\n",
    "ax.set_ylabel('Difference (degrees Fahrenheit)')\n",
    "ax.legend(loc=0)\n",
    "plt.show()\n",
    "    \n",
    "        \n",
    "    \n"
   ]
  }
 ],
 "metadata": {
  "kernelspec": {
   "display_name": "Python 3",
   "language": "python",
   "name": "python3"
  },
  "language_info": {
   "codemirror_mode": {
    "name": "ipython",
    "version": 3
   },
   "file_extension": ".py",
   "mimetype": "text/x-python",
   "name": "python",
   "nbconvert_exporter": "python",
   "pygments_lexer": "ipython3",
   "version": "3.6.7"
  }
 },
 "nbformat": 4,
 "nbformat_minor": 2
}
